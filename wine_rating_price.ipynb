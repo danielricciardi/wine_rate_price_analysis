{
 "cells": [
  {
   "cell_type": "markdown",
   "id": "97322e83-c4fa-4350-944d-2caff12496cb",
   "metadata": {},
   "source": [
    "# __Wine Rating & Price__"
   ]
  },
  {
   "cell_type": "markdown",
   "id": "327040dc-1708-4f15-a88c-932594d2aefd",
   "metadata": {},
   "source": [
    "__13k unique wines with all general information and rating by Vivino users. The dataset can be found on Kaggle at <a href=\"https://www.kaggle.com/datasets/budnyak/wine-rating-and-price\">this link</a>.<br>\n",
    "The csv files contains 4 files for each winestyle: red, white, rose and sparkling. Also there is a file with wine varieties for further analysis.__"
   ]
  },
  {
   "cell_type": "markdown",
   "id": "f5850ca1-b146-45e0-8312-91e4ac7f0a93",
   "metadata": {},
   "source": [
    "***"
   ]
  },
  {
   "cell_type": "markdown",
   "id": "b2123d14-4f4b-42c2-853f-a342daf2deea",
   "metadata": {},
   "source": [
    "## ___Preliminary operations___"
   ]
  },
  {
   "cell_type": "code",
   "execution_count": 1,
   "id": "f7571680-bd11-4373-88d7-9ae4aac2a8e1",
   "metadata": {},
   "outputs": [],
   "source": [
    "import os\n",
    "import pandas as pd\n",
    "import numpy as np\n",
    "import matplotlib.pyplot as plt\n",
    "import seaborn as sns\n"
   ]
  },
  {
   "cell_type": "code",
   "execution_count": 2,
   "id": "6d2b404a-b7b3-46e3-a8db-f4ebb08d4825",
   "metadata": {},
   "outputs": [
    {
     "name": "stdout",
     "output_type": "stream",
     "text": [
      "c:\\Users\\danie\\Desktop\\DANIEL\\KAGGLE_PROJECTS\\wine_rating_price\n"
     ]
    }
   ],
   "source": [
    "# Current folder path\n",
    "current_pth = os.getcwd()\n",
    "print(current_pth)"
   ]
  },
  {
   "cell_type": "code",
   "execution_count": 3,
   "id": "fe4ea799-d076-49f0-8b98-5e98d7f1e2c3",
   "metadata": {},
   "outputs": [],
   "source": [
    "data_pth = \"./data/\""
   ]
  },
  {
   "cell_type": "code",
   "execution_count": 4,
   "id": "0df49309-c5b4-472c-b1e7-4295804cec5d",
   "metadata": {},
   "outputs": [],
   "source": [
    "# New folder path\n",
    "csv_pth = current_pth + data_pth\n",
    "os.chdir(csv_pth)"
   ]
  },
  {
   "cell_type": "code",
   "execution_count": 5,
   "id": "9f983e1b-13c1-4275-ad6c-ee5e2413a8f5",
   "metadata": {},
   "outputs": [
    {
     "data": {
      "text/plain": [
       "'c:\\\\Users\\\\danie\\\\Desktop\\\\DANIEL\\\\KAGGLE_PROJECTS\\\\wine_rating_price\\\\data'"
      ]
     },
     "execution_count": 5,
     "metadata": {},
     "output_type": "execute_result"
    }
   ],
   "source": [
    "# Check path\n",
    "os.getcwd()"
   ]
  },
  {
   "cell_type": "markdown",
   "id": "4bbd7b0e-bc4c-4ba2-9d87-8f0c4246dd37",
   "metadata": {},
   "source": [
    "***"
   ]
  },
  {
   "cell_type": "code",
   "execution_count": 6,
   "id": "8e39f2bd-bf3c-4aaa-900e-89d8564557c1",
   "metadata": {},
   "outputs": [
    {
     "data": {
      "text/plain": [
       "['Red.csv', 'Rose.csv', 'Sparkling.csv', 'Varieties.csv', 'White.csv']"
      ]
     },
     "execution_count": 6,
     "metadata": {},
     "output_type": "execute_result"
    }
   ],
   "source": [
    "# Listing folder content\n",
    "wines_list = os.listdir(csv_pth)\n",
    "wines_list.remove(\"df_wines.csv\")\n",
    "wines_list"
   ]
  },
  {
   "cell_type": "markdown",
   "id": "d88d3583-dab5-4244-afc6-ad5012192e9f",
   "metadata": {},
   "source": [
    "## ___Wines type DataSets creation___"
   ]
  },
  {
   "cell_type": "code",
   "execution_count": 7,
   "id": "e5c11f99-fa14-4d10-aafc-c47632bedadb",
   "metadata": {},
   "outputs": [],
   "source": [
    "df_red = pd.read_csv(wines_list[0])          # red wine\n",
    "df_rose = pd.read_csv(wines_list[1])         # rose wine\n",
    "df_white = pd.read_csv(wines_list[4])        # white wine\n",
    "df_spark = pd.read_csv(wines_list[2])        # sparkling wine\n",
    "df_variety = pd.read_csv(wines_list[3])      # wines varieties"
   ]
  },
  {
   "cell_type": "markdown",
   "id": "369b14ea-c836-477f-8179-766d6a62b66a",
   "metadata": {},
   "source": [
    "***"
   ]
  },
  {
   "cell_type": "markdown",
   "id": "46781014-48c3-40a6-961c-721a86d4b00b",
   "metadata": {},
   "source": [
    "### ___Red wines___"
   ]
  },
  {
   "cell_type": "code",
   "execution_count": 8,
   "id": "256040ed-a650-46ad-ad0a-09f304cdad4a",
   "metadata": {},
   "outputs": [
    {
     "data": {
      "text/html": [
       "<div>\n",
       "<style scoped>\n",
       "    .dataframe tbody tr th:only-of-type {\n",
       "        vertical-align: middle;\n",
       "    }\n",
       "\n",
       "    .dataframe tbody tr th {\n",
       "        vertical-align: top;\n",
       "    }\n",
       "\n",
       "    .dataframe thead th {\n",
       "        text-align: right;\n",
       "    }\n",
       "</style>\n",
       "<table border=\"1\" class=\"dataframe\">\n",
       "  <thead>\n",
       "    <tr style=\"text-align: right;\">\n",
       "      <th></th>\n",
       "      <th>Name</th>\n",
       "      <th>Country</th>\n",
       "      <th>Region</th>\n",
       "      <th>Winery</th>\n",
       "      <th>Rating</th>\n",
       "      <th>NumberOfRatings</th>\n",
       "      <th>Price</th>\n",
       "      <th>Year</th>\n",
       "    </tr>\n",
       "  </thead>\n",
       "  <tbody>\n",
       "    <tr>\n",
       "      <th>8249</th>\n",
       "      <td>Sainte-Épine Saint-Joseph 2011</td>\n",
       "      <td>France</td>\n",
       "      <td>Saint-Joseph</td>\n",
       "      <td>Delas</td>\n",
       "      <td>4.3</td>\n",
       "      <td>89</td>\n",
       "      <td>48.64</td>\n",
       "      <td>2011</td>\n",
       "    </tr>\n",
       "    <tr>\n",
       "      <th>976</th>\n",
       "      <td>La Bella Addormentata Terre di Chieti Sangiove...</td>\n",
       "      <td>Italy</td>\n",
       "      <td>Terre di Chieti</td>\n",
       "      <td>Gran Sasso</td>\n",
       "      <td>3.6</td>\n",
       "      <td>133</td>\n",
       "      <td>7.32</td>\n",
       "      <td>2018</td>\n",
       "    </tr>\n",
       "    <tr>\n",
       "      <th>533</th>\n",
       "      <td>Aussières Rouge (Red Blend) 2017</td>\n",
       "      <td>France</td>\n",
       "      <td>Pays d'Oc</td>\n",
       "      <td>Château d’Aussières</td>\n",
       "      <td>3.5</td>\n",
       "      <td>116</td>\n",
       "      <td>8.32</td>\n",
       "      <td>2017</td>\n",
       "    </tr>\n",
       "    <tr>\n",
       "      <th>7536</th>\n",
       "      <td>Merlot 2015</td>\n",
       "      <td>Chile</td>\n",
       "      <td>Casablanca Valley</td>\n",
       "      <td>Veramonte</td>\n",
       "      <td>3.5</td>\n",
       "      <td>736</td>\n",
       "      <td>9.46</td>\n",
       "      <td>2015</td>\n",
       "    </tr>\n",
       "    <tr>\n",
       "      <th>1589</th>\n",
       "      <td>Gran Tonel 137 Malbec 2012</td>\n",
       "      <td>Argentina</td>\n",
       "      <td>Mendoza</td>\n",
       "      <td>Bodega Toneles</td>\n",
       "      <td>4.2</td>\n",
       "      <td>161</td>\n",
       "      <td>50.19</td>\n",
       "      <td>2012</td>\n",
       "    </tr>\n",
       "  </tbody>\n",
       "</table>\n",
       "</div>"
      ],
      "text/plain": [
       "                                                   Name    Country  \\\n",
       "8249                     Sainte-Épine Saint-Joseph 2011     France   \n",
       "976   La Bella Addormentata Terre di Chieti Sangiove...      Italy   \n",
       "533                    Aussières Rouge (Red Blend) 2017     France   \n",
       "7536                                        Merlot 2015      Chile   \n",
       "1589                         Gran Tonel 137 Malbec 2012  Argentina   \n",
       "\n",
       "                 Region               Winery  Rating  NumberOfRatings  Price  \\\n",
       "8249       Saint-Joseph                Delas     4.3               89  48.64   \n",
       "976     Terre di Chieti           Gran Sasso     3.6              133   7.32   \n",
       "533           Pays d'Oc  Château d’Aussières     3.5              116   8.32   \n",
       "7536  Casablanca Valley            Veramonte     3.5              736   9.46   \n",
       "1589            Mendoza       Bodega Toneles     4.2              161  50.19   \n",
       "\n",
       "      Year  \n",
       "8249  2011  \n",
       "976   2018  \n",
       "533   2017  \n",
       "7536  2015  \n",
       "1589  2012  "
      ]
     },
     "execution_count": 8,
     "metadata": {},
     "output_type": "execute_result"
    }
   ],
   "source": [
    "df_red.sample(5)"
   ]
  },
  {
   "cell_type": "code",
   "execution_count": 9,
   "id": "434cc5f0-2c90-472d-be94-603a55f55149",
   "metadata": {},
   "outputs": [
    {
     "name": "stdout",
     "output_type": "stream",
     "text": [
      "<class 'pandas.core.frame.DataFrame'>\n",
      "RangeIndex: 8666 entries, 0 to 8665\n",
      "Data columns (total 8 columns):\n",
      " #   Column           Non-Null Count  Dtype  \n",
      "---  ------           --------------  -----  \n",
      " 0   Name             8666 non-null   object \n",
      " 1   Country          8666 non-null   object \n",
      " 2   Region           8666 non-null   object \n",
      " 3   Winery           8666 non-null   object \n",
      " 4   Rating           8666 non-null   float64\n",
      " 5   NumberOfRatings  8666 non-null   int64  \n",
      " 6   Price            8666 non-null   float64\n",
      " 7   Year             8666 non-null   object \n",
      "dtypes: float64(2), int64(1), object(5)\n",
      "memory usage: 541.8+ KB\n"
     ]
    }
   ],
   "source": [
    "df_red.info()"
   ]
  },
  {
   "cell_type": "code",
   "execution_count": 10,
   "id": "4380a04e-c9fe-4e29-a62d-947f7865e1b2",
   "metadata": {},
   "outputs": [
    {
     "data": {
      "text/plain": [
       "array(['France', 'Italy', 'Austria', 'New Zealand', 'Chile', 'Australia',\n",
       "       'South Africa', 'Spain', 'United States', 'Portugal', 'Hungary',\n",
       "       'Brazil', 'Argentina', 'Romania', 'Germany', 'Greece', 'Mexico',\n",
       "       'Moldova', 'Switzerland', 'Slovenia', 'Israel', 'Georgia',\n",
       "       'Lebanon', 'Uruguay', 'Turkey', 'Croatia', 'China', 'Slovakia',\n",
       "       'Bulgaria', 'Canada'], dtype=object)"
      ]
     },
     "execution_count": 10,
     "metadata": {},
     "output_type": "execute_result"
    }
   ],
   "source": [
    "df_red[\"Country\"].unique()"
   ]
  },
  {
   "cell_type": "code",
   "execution_count": 11,
   "id": "5cc0b3c0-92ea-43dd-977e-bc13264dcb77",
   "metadata": {},
   "outputs": [
    {
     "name": "stdout",
     "output_type": "stream",
     "text": [
      "There are 30 countries\n"
     ]
    }
   ],
   "source": [
    "red_countries_count = df_red[\"Country\"].nunique()\n",
    "print(f'There are {red_countries_count} countries')"
   ]
  },
  {
   "cell_type": "markdown",
   "id": "235ab6b6-d95c-4bd9-a859-5895d3f20531",
   "metadata": {},
   "source": [
    "***"
   ]
  },
  {
   "cell_type": "markdown",
   "id": "cf7503c8-bcdb-4fda-95e3-a206e6c68057",
   "metadata": {},
   "source": [
    "### ___Rose wines___"
   ]
  },
  {
   "cell_type": "code",
   "execution_count": 12,
   "id": "2287f224-e988-42cf-a5bf-7d00757089bc",
   "metadata": {},
   "outputs": [
    {
     "data": {
      "text/html": [
       "<div>\n",
       "<style scoped>\n",
       "    .dataframe tbody tr th:only-of-type {\n",
       "        vertical-align: middle;\n",
       "    }\n",
       "\n",
       "    .dataframe tbody tr th {\n",
       "        vertical-align: top;\n",
       "    }\n",
       "\n",
       "    .dataframe thead th {\n",
       "        text-align: right;\n",
       "    }\n",
       "</style>\n",
       "<table border=\"1\" class=\"dataframe\">\n",
       "  <thead>\n",
       "    <tr style=\"text-align: right;\">\n",
       "      <th></th>\n",
       "      <th>Name</th>\n",
       "      <th>Country</th>\n",
       "      <th>Region</th>\n",
       "      <th>Winery</th>\n",
       "      <th>Rating</th>\n",
       "      <th>NumberOfRatings</th>\n",
       "      <th>Price</th>\n",
       "      <th>Year</th>\n",
       "    </tr>\n",
       "  </thead>\n",
       "  <tbody>\n",
       "    <tr>\n",
       "      <th>376</th>\n",
       "      <td>Côtes de Provence Rosé 2019</td>\n",
       "      <td>France</td>\n",
       "      <td>Côtes de Provence</td>\n",
       "      <td>Miraval</td>\n",
       "      <td>3.9</td>\n",
       "      <td>633</td>\n",
       "      <td>15.88</td>\n",
       "      <td>2019</td>\n",
       "    </tr>\n",
       "    <tr>\n",
       "      <th>375</th>\n",
       "      <td>White Zinfandel 2018</td>\n",
       "      <td>United States</td>\n",
       "      <td>California</td>\n",
       "      <td>Gallo Family Vineyards</td>\n",
       "      <td>3.6</td>\n",
       "      <td>626</td>\n",
       "      <td>6.05</td>\n",
       "      <td>2018</td>\n",
       "    </tr>\n",
       "    <tr>\n",
       "      <th>145</th>\n",
       "      <td>Bardolino Chiaretto 2018</td>\n",
       "      <td>Italy</td>\n",
       "      <td>Bardolino</td>\n",
       "      <td>Sartori</td>\n",
       "      <td>3.3</td>\n",
       "      <td>53</td>\n",
       "      <td>8.67</td>\n",
       "      <td>2018</td>\n",
       "    </tr>\n",
       "    <tr>\n",
       "      <th>75</th>\n",
       "      <td>Cuvée Speciale des Vignettes Rosé 2016</td>\n",
       "      <td>France</td>\n",
       "      <td>Provence</td>\n",
       "      <td>Clos Cibonne</td>\n",
       "      <td>4.2</td>\n",
       "      <td>36</td>\n",
       "      <td>22.90</td>\n",
       "      <td>2016</td>\n",
       "    </tr>\n",
       "    <tr>\n",
       "      <th>183</th>\n",
       "      <td>Tellus Rosé di Syrah 2016</td>\n",
       "      <td>Italy</td>\n",
       "      <td>Lazio</td>\n",
       "      <td>Falesco</td>\n",
       "      <td>3.6</td>\n",
       "      <td>64</td>\n",
       "      <td>11.82</td>\n",
       "      <td>2016</td>\n",
       "    </tr>\n",
       "  </tbody>\n",
       "</table>\n",
       "</div>"
      ],
      "text/plain": [
       "                                       Name        Country             Region  \\\n",
       "376             Côtes de Provence Rosé 2019         France  Côtes de Provence   \n",
       "375                    White Zinfandel 2018  United States         California   \n",
       "145                Bardolino Chiaretto 2018          Italy          Bardolino   \n",
       "75   Cuvée Speciale des Vignettes Rosé 2016         France           Provence   \n",
       "183               Tellus Rosé di Syrah 2016          Italy              Lazio   \n",
       "\n",
       "                     Winery  Rating  NumberOfRatings  Price  Year  \n",
       "376                 Miraval     3.9              633  15.88  2019  \n",
       "375  Gallo Family Vineyards     3.6              626   6.05  2018  \n",
       "145                 Sartori     3.3               53   8.67  2018  \n",
       "75             Clos Cibonne     4.2               36  22.90  2016  \n",
       "183                 Falesco     3.6               64  11.82  2016  "
      ]
     },
     "execution_count": 12,
     "metadata": {},
     "output_type": "execute_result"
    }
   ],
   "source": [
    "df_rose.sample(5)"
   ]
  },
  {
   "cell_type": "code",
   "execution_count": 13,
   "id": "6204d8fb-768f-4848-9c5d-55de50d2ba66",
   "metadata": {},
   "outputs": [
    {
     "name": "stdout",
     "output_type": "stream",
     "text": [
      "<class 'pandas.core.frame.DataFrame'>\n",
      "RangeIndex: 397 entries, 0 to 396\n",
      "Data columns (total 8 columns):\n",
      " #   Column           Non-Null Count  Dtype  \n",
      "---  ------           --------------  -----  \n",
      " 0   Name             397 non-null    object \n",
      " 1   Country          397 non-null    object \n",
      " 2   Region           397 non-null    object \n",
      " 3   Winery           397 non-null    object \n",
      " 4   Rating           397 non-null    float64\n",
      " 5   NumberOfRatings  397 non-null    int64  \n",
      " 6   Price            397 non-null    float64\n",
      " 7   Year             397 non-null    object \n",
      "dtypes: float64(2), int64(1), object(5)\n",
      "memory usage: 24.9+ KB\n"
     ]
    }
   ],
   "source": [
    "df_rose.info()"
   ]
  },
  {
   "cell_type": "code",
   "execution_count": 14,
   "id": "3f0ce165-e52b-462d-83de-43da30cf6f6b",
   "metadata": {},
   "outputs": [
    {
     "data": {
      "text/plain": [
       "array(['France', 'Portugal', 'Italy', 'Israel', 'Greece', 'South Africa',\n",
       "       'Austria', 'Spain', 'Germany', 'Argentina', 'United States',\n",
       "       'Turkey', 'Romania', 'Chile', 'New Zealand', 'Moldova'],\n",
       "      dtype=object)"
      ]
     },
     "execution_count": 14,
     "metadata": {},
     "output_type": "execute_result"
    }
   ],
   "source": [
    "df_rose[\"Country\"].unique()"
   ]
  },
  {
   "cell_type": "code",
   "execution_count": 15,
   "id": "269916df-7f0e-48db-ac9f-9a1da018e11f",
   "metadata": {},
   "outputs": [
    {
     "name": "stdout",
     "output_type": "stream",
     "text": [
      "There are 16 countries\n"
     ]
    }
   ],
   "source": [
    "rose_countries_count = df_rose[\"Country\"].nunique()\n",
    "print(f'There are {rose_countries_count} countries')"
   ]
  },
  {
   "cell_type": "markdown",
   "id": "4d97c46a-24cf-4003-9487-24517d16df0b",
   "metadata": {},
   "source": [
    "***"
   ]
  },
  {
   "cell_type": "markdown",
   "id": "f70ebd6a-3e39-41cd-b959-12f960023494",
   "metadata": {},
   "source": [
    "### ___White wines___"
   ]
  },
  {
   "cell_type": "code",
   "execution_count": 16,
   "id": "cd60a3c6-de4d-4552-bc5a-bcbd37083445",
   "metadata": {},
   "outputs": [
    {
     "data": {
      "text/html": [
       "<div>\n",
       "<style scoped>\n",
       "    .dataframe tbody tr th:only-of-type {\n",
       "        vertical-align: middle;\n",
       "    }\n",
       "\n",
       "    .dataframe tbody tr th {\n",
       "        vertical-align: top;\n",
       "    }\n",
       "\n",
       "    .dataframe thead th {\n",
       "        text-align: right;\n",
       "    }\n",
       "</style>\n",
       "<table border=\"1\" class=\"dataframe\">\n",
       "  <thead>\n",
       "    <tr style=\"text-align: right;\">\n",
       "      <th></th>\n",
       "      <th>Name</th>\n",
       "      <th>Country</th>\n",
       "      <th>Region</th>\n",
       "      <th>Winery</th>\n",
       "      <th>Rating</th>\n",
       "      <th>NumberOfRatings</th>\n",
       "      <th>Price</th>\n",
       "      <th>Year</th>\n",
       "    </tr>\n",
       "  </thead>\n",
       "  <tbody>\n",
       "    <tr>\n",
       "      <th>2535</th>\n",
       "      <td>Pinot Gris 2016</td>\n",
       "      <td>United States</td>\n",
       "      <td>Russian River Valley</td>\n",
       "      <td>MacMurray</td>\n",
       "      <td>3.8</td>\n",
       "      <td>133</td>\n",
       "      <td>17.42</td>\n",
       "      <td>2016</td>\n",
       "    </tr>\n",
       "    <tr>\n",
       "      <th>2245</th>\n",
       "      <td>Ribolla Gialla Collio 2017</td>\n",
       "      <td>Italy</td>\n",
       "      <td>Collio</td>\n",
       "      <td>Gradis'Ciutta</td>\n",
       "      <td>3.9</td>\n",
       "      <td>104</td>\n",
       "      <td>12.90</td>\n",
       "      <td>2017</td>\n",
       "    </tr>\n",
       "    <tr>\n",
       "      <th>2651</th>\n",
       "      <td>Exultet Fiano di Avellino 2014</td>\n",
       "      <td>Italy</td>\n",
       "      <td>Fiano de Avellino</td>\n",
       "      <td>Quintodecimo</td>\n",
       "      <td>4.1</td>\n",
       "      <td>149</td>\n",
       "      <td>37.83</td>\n",
       "      <td>2014</td>\n",
       "    </tr>\n",
       "    <tr>\n",
       "      <th>2949</th>\n",
       "      <td>Légende (R) Bordeaux Blanc 2018</td>\n",
       "      <td>France</td>\n",
       "      <td>Bordeaux</td>\n",
       "      <td>Barons de Rothschild (Lafite)</td>\n",
       "      <td>3.6</td>\n",
       "      <td>199</td>\n",
       "      <td>9.90</td>\n",
       "      <td>2018</td>\n",
       "    </tr>\n",
       "    <tr>\n",
       "      <th>2214</th>\n",
       "      <td>Uccellanda Curtefranca 2012</td>\n",
       "      <td>Italy</td>\n",
       "      <td>Curtefranca</td>\n",
       "      <td>Bellavista</td>\n",
       "      <td>4.1</td>\n",
       "      <td>101</td>\n",
       "      <td>39.90</td>\n",
       "      <td>2012</td>\n",
       "    </tr>\n",
       "  </tbody>\n",
       "</table>\n",
       "</div>"
      ],
      "text/plain": [
       "                                 Name        Country                Region  \\\n",
       "2535                  Pinot Gris 2016  United States  Russian River Valley   \n",
       "2245       Ribolla Gialla Collio 2017          Italy                Collio   \n",
       "2651   Exultet Fiano di Avellino 2014          Italy     Fiano de Avellino   \n",
       "2949  Légende (R) Bordeaux Blanc 2018         France              Bordeaux   \n",
       "2214      Uccellanda Curtefranca 2012          Italy           Curtefranca   \n",
       "\n",
       "                             Winery  Rating  NumberOfRatings  Price  Year  \n",
       "2535                      MacMurray     3.8              133  17.42  2016  \n",
       "2245                  Gradis'Ciutta     3.9              104  12.90  2017  \n",
       "2651                   Quintodecimo     4.1              149  37.83  2014  \n",
       "2949  Barons de Rothschild (Lafite)     3.6              199   9.90  2018  \n",
       "2214                     Bellavista     4.1              101  39.90  2012  "
      ]
     },
     "execution_count": 16,
     "metadata": {},
     "output_type": "execute_result"
    }
   ],
   "source": [
    "df_white.sample(5)"
   ]
  },
  {
   "cell_type": "code",
   "execution_count": 17,
   "id": "da3606a2-d136-4960-a78b-a51888e40f21",
   "metadata": {},
   "outputs": [
    {
     "name": "stdout",
     "output_type": "stream",
     "text": [
      "<class 'pandas.core.frame.DataFrame'>\n",
      "RangeIndex: 3764 entries, 0 to 3763\n",
      "Data columns (total 8 columns):\n",
      " #   Column           Non-Null Count  Dtype  \n",
      "---  ------           --------------  -----  \n",
      " 0   Name             3764 non-null   object \n",
      " 1   Country          3764 non-null   object \n",
      " 2   Region           3764 non-null   object \n",
      " 3   Winery           3764 non-null   object \n",
      " 4   Rating           3764 non-null   float64\n",
      " 5   NumberOfRatings  3764 non-null   int64  \n",
      " 6   Price            3764 non-null   float64\n",
      " 7   Year             3764 non-null   object \n",
      "dtypes: float64(2), int64(1), object(5)\n",
      "memory usage: 235.4+ KB\n"
     ]
    }
   ],
   "source": [
    "df_white.info()"
   ]
  },
  {
   "cell_type": "code",
   "execution_count": 18,
   "id": "22962ded-1ac2-43fa-93a5-f2c518c1f9bf",
   "metadata": {},
   "outputs": [
    {
     "data": {
      "text/plain": [
       "array(['Italy', 'Austria', 'Germany', 'France', 'Spain', 'Hungary',\n",
       "       'Australia', 'Luxembourg', 'South Africa', 'Chile', 'Portugal',\n",
       "       'New Zealand', 'United States', 'Romania', 'Slovenia', 'Argentina',\n",
       "       'Brazil', 'Switzerland', 'Croatia', 'China', 'Greece', 'Israel',\n",
       "       'Turkey', 'Georgia', 'Czech Republic', 'Slovakia', 'Canada',\n",
       "       'Lebanon', 'Moldova', 'Uruguay'], dtype=object)"
      ]
     },
     "execution_count": 18,
     "metadata": {},
     "output_type": "execute_result"
    }
   ],
   "source": [
    "df_white[\"Country\"].unique()"
   ]
  },
  {
   "cell_type": "code",
   "execution_count": 19,
   "id": "9d111bdd-300d-4480-8fb9-d730b33dd53e",
   "metadata": {},
   "outputs": [
    {
     "name": "stdout",
     "output_type": "stream",
     "text": [
      "There are 30 countries\n"
     ]
    }
   ],
   "source": [
    "white_countries_count = df_white[\"Country\"].nunique()\n",
    "print(f'There are {white_countries_count} countries')"
   ]
  },
  {
   "cell_type": "markdown",
   "id": "e5b41a13-61c6-4de6-b8cc-9a5bb3f50e70",
   "metadata": {},
   "source": [
    "***"
   ]
  },
  {
   "cell_type": "markdown",
   "id": "ad8ae53f-e271-46e8-9e7c-5735886ddc7b",
   "metadata": {},
   "source": [
    "### ___Sparkling wines___"
   ]
  },
  {
   "cell_type": "code",
   "execution_count": 20,
   "id": "fcc2079c-d4a6-44b9-8f0c-eb8a0cdd5527",
   "metadata": {},
   "outputs": [
    {
     "data": {
      "text/html": [
       "<div>\n",
       "<style scoped>\n",
       "    .dataframe tbody tr th:only-of-type {\n",
       "        vertical-align: middle;\n",
       "    }\n",
       "\n",
       "    .dataframe tbody tr th {\n",
       "        vertical-align: top;\n",
       "    }\n",
       "\n",
       "    .dataframe thead th {\n",
       "        text-align: right;\n",
       "    }\n",
       "</style>\n",
       "<table border=\"1\" class=\"dataframe\">\n",
       "  <thead>\n",
       "    <tr style=\"text-align: right;\">\n",
       "      <th></th>\n",
       "      <th>Name</th>\n",
       "      <th>Country</th>\n",
       "      <th>Region</th>\n",
       "      <th>Winery</th>\n",
       "      <th>Rating</th>\n",
       "      <th>NumberOfRatings</th>\n",
       "      <th>Price</th>\n",
       "      <th>Year</th>\n",
       "    </tr>\n",
       "  </thead>\n",
       "  <tbody>\n",
       "    <tr>\n",
       "      <th>143</th>\n",
       "      <td>Riesling Sekt Brut N.V.</td>\n",
       "      <td>Germany</td>\n",
       "      <td>Rheingau</td>\n",
       "      <td>Weingüter Wegeler</td>\n",
       "      <td>3.7</td>\n",
       "      <td>56</td>\n",
       "      <td>14.20</td>\n",
       "      <td>N.V.</td>\n",
       "    </tr>\n",
       "    <tr>\n",
       "      <th>699</th>\n",
       "      <td>Cava Brut Reserva Rosé N.V.</td>\n",
       "      <td>Spain</td>\n",
       "      <td>Cava</td>\n",
       "      <td>Vilarnau</td>\n",
       "      <td>3.5</td>\n",
       "      <td>611</td>\n",
       "      <td>11.08</td>\n",
       "      <td>N.V.</td>\n",
       "    </tr>\n",
       "    <tr>\n",
       "      <th>587</th>\n",
       "      <td>Franciacorta Gran Cuvée Brut Rosé N.V.</td>\n",
       "      <td>Italy</td>\n",
       "      <td>Franciacorta</td>\n",
       "      <td>Bellavista</td>\n",
       "      <td>4.1</td>\n",
       "      <td>366</td>\n",
       "      <td>44.90</td>\n",
       "      <td>N.V.</td>\n",
       "    </tr>\n",
       "    <tr>\n",
       "      <th>333</th>\n",
       "      <td>Prosecco Extra Dry N.V.</td>\n",
       "      <td>Italy</td>\n",
       "      <td>Prosecco</td>\n",
       "      <td>Corte delle Rose</td>\n",
       "      <td>3.6</td>\n",
       "      <td>140</td>\n",
       "      <td>9.49</td>\n",
       "      <td>N.V.</td>\n",
       "    </tr>\n",
       "    <tr>\n",
       "      <th>432</th>\n",
       "      <td>Special Club Brut Champagne Grand Cru 'Bouzy' ...</td>\n",
       "      <td>France</td>\n",
       "      <td>Champagne Grand Cru 'Bouzy'</td>\n",
       "      <td>Paul Bara</td>\n",
       "      <td>4.2</td>\n",
       "      <td>200</td>\n",
       "      <td>58.00</td>\n",
       "      <td>2008</td>\n",
       "    </tr>\n",
       "  </tbody>\n",
       "</table>\n",
       "</div>"
      ],
      "text/plain": [
       "                                                  Name  Country  \\\n",
       "143                            Riesling Sekt Brut N.V.  Germany   \n",
       "699                        Cava Brut Reserva Rosé N.V.    Spain   \n",
       "587             Franciacorta Gran Cuvée Brut Rosé N.V.    Italy   \n",
       "333                            Prosecco Extra Dry N.V.    Italy   \n",
       "432  Special Club Brut Champagne Grand Cru 'Bouzy' ...   France   \n",
       "\n",
       "                          Region             Winery  Rating  NumberOfRatings  \\\n",
       "143                     Rheingau  Weingüter Wegeler     3.7               56   \n",
       "699                         Cava           Vilarnau     3.5              611   \n",
       "587                 Franciacorta         Bellavista     4.1              366   \n",
       "333                     Prosecco   Corte delle Rose     3.6              140   \n",
       "432  Champagne Grand Cru 'Bouzy'          Paul Bara     4.2              200   \n",
       "\n",
       "     Price  Year  \n",
       "143  14.20  N.V.  \n",
       "699  11.08  N.V.  \n",
       "587  44.90  N.V.  \n",
       "333   9.49  N.V.  \n",
       "432  58.00  2008  "
      ]
     },
     "execution_count": 20,
     "metadata": {},
     "output_type": "execute_result"
    }
   ],
   "source": [
    "df_spark.sample(5)"
   ]
  },
  {
   "cell_type": "code",
   "execution_count": 21,
   "id": "4a69edf7-6ab5-4e68-9258-33b81d8e0083",
   "metadata": {},
   "outputs": [
    {
     "name": "stdout",
     "output_type": "stream",
     "text": [
      "<class 'pandas.core.frame.DataFrame'>\n",
      "RangeIndex: 1007 entries, 0 to 1006\n",
      "Data columns (total 8 columns):\n",
      " #   Column           Non-Null Count  Dtype  \n",
      "---  ------           --------------  -----  \n",
      " 0   Name             1007 non-null   object \n",
      " 1   Country          1007 non-null   object \n",
      " 2   Region           1007 non-null   object \n",
      " 3   Winery           1007 non-null   object \n",
      " 4   Rating           1007 non-null   float64\n",
      " 5   NumberOfRatings  1007 non-null   int64  \n",
      " 6   Price            1007 non-null   float64\n",
      " 7   Year             1007 non-null   object \n",
      "dtypes: float64(2), int64(1), object(5)\n",
      "memory usage: 63.1+ KB\n"
     ]
    }
   ],
   "source": [
    "df_spark.info()"
   ]
  },
  {
   "cell_type": "code",
   "execution_count": 22,
   "id": "5e321196-3457-4a1e-9e99-5a3c50dfe357",
   "metadata": {},
   "outputs": [
    {
     "data": {
      "text/plain": [
       "array(['France', 'New Zealand', 'Italy', 'Germany', 'Spain', 'Portugal',\n",
       "       'United States', 'Australia', 'Luxembourg', 'South Africa',\n",
       "       'Austria', 'Moldova', 'Brazil', 'United Kingdom', 'Slovenia',\n",
       "       'Chile'], dtype=object)"
      ]
     },
     "execution_count": 22,
     "metadata": {},
     "output_type": "execute_result"
    }
   ],
   "source": [
    "df_spark[\"Country\"].unique()"
   ]
  },
  {
   "cell_type": "code",
   "execution_count": 23,
   "id": "df309c32-1659-42fe-a25b-71e40cba64a9",
   "metadata": {},
   "outputs": [
    {
     "name": "stdout",
     "output_type": "stream",
     "text": [
      "There are 16 countries\n"
     ]
    }
   ],
   "source": [
    "spark_countries_count = df_spark[\"Country\"].nunique()\n",
    "print(f'There are {spark_countries_count} countries')"
   ]
  },
  {
   "cell_type": "markdown",
   "id": "3fb87854-ecda-4b8d-897e-e56b27d9277b",
   "metadata": {},
   "source": [
    "***"
   ]
  },
  {
   "cell_type": "markdown",
   "id": "51410042-e690-4750-8ac7-8d8ba2fa431a",
   "metadata": {},
   "source": [
    "### ___Wines varieties___"
   ]
  },
  {
   "cell_type": "code",
   "execution_count": 24,
   "id": "81774188-d5fb-479a-9334-7a77640447a2",
   "metadata": {},
   "outputs": [
    {
     "data": {
      "text/html": [
       "<div>\n",
       "<style scoped>\n",
       "    .dataframe tbody tr th:only-of-type {\n",
       "        vertical-align: middle;\n",
       "    }\n",
       "\n",
       "    .dataframe tbody tr th {\n",
       "        vertical-align: top;\n",
       "    }\n",
       "\n",
       "    .dataframe thead th {\n",
       "        text-align: right;\n",
       "    }\n",
       "</style>\n",
       "<table border=\"1\" class=\"dataframe\">\n",
       "  <thead>\n",
       "    <tr style=\"text-align: right;\">\n",
       "      <th></th>\n",
       "      <th>Variety</th>\n",
       "    </tr>\n",
       "  </thead>\n",
       "  <tbody>\n",
       "    <tr>\n",
       "      <th>126</th>\n",
       "      <td>Egiodola</td>\n",
       "    </tr>\n",
       "    <tr>\n",
       "      <th>341</th>\n",
       "      <td>Verdeca</td>\n",
       "    </tr>\n",
       "    <tr>\n",
       "      <th>7</th>\n",
       "      <td>Aglianico</td>\n",
       "    </tr>\n",
       "    <tr>\n",
       "      <th>85</th>\n",
       "      <td>Cabernet Sauvignon - Carmenere</td>\n",
       "    </tr>\n",
       "    <tr>\n",
       "      <th>485</th>\n",
       "      <td>Cinsaut</td>\n",
       "    </tr>\n",
       "  </tbody>\n",
       "</table>\n",
       "</div>"
      ],
      "text/plain": [
       "                            Variety\n",
       "126                        Egiodola\n",
       "341                         Verdeca\n",
       "7                         Aglianico\n",
       "85   Cabernet Sauvignon - Carmenere\n",
       "485                         Cinsaut"
      ]
     },
     "execution_count": 24,
     "metadata": {},
     "output_type": "execute_result"
    }
   ],
   "source": [
    "df_variety.sample(5)"
   ]
  },
  {
   "cell_type": "code",
   "execution_count": 25,
   "id": "81162455-b895-48d0-b521-4083abb30dae",
   "metadata": {},
   "outputs": [
    {
     "name": "stdout",
     "output_type": "stream",
     "text": [
      "<class 'pandas.core.frame.DataFrame'>\n",
      "RangeIndex: 1512 entries, 0 to 1511\n",
      "Data columns (total 1 columns):\n",
      " #   Column   Non-Null Count  Dtype \n",
      "---  ------   --------------  ----- \n",
      " 0   Variety  1512 non-null   object\n",
      "dtypes: object(1)\n",
      "memory usage: 11.9+ KB\n"
     ]
    }
   ],
   "source": [
    "df_variety.info()"
   ]
  },
  {
   "cell_type": "code",
   "execution_count": 26,
   "id": "d82ec9c0-0c1d-4b7a-a35c-f18d2b1e6c48",
   "metadata": {},
   "outputs": [
    {
     "name": "stdout",
     "output_type": "stream",
     "text": [
      "There are 1493 wines varieties\n"
     ]
    }
   ],
   "source": [
    "varieties_count = df_variety[\"Variety\"].nunique()\n",
    "print(f'There are {varieties_count} wines varieties')"
   ]
  },
  {
   "cell_type": "markdown",
   "id": "1347bdba-2ad8-4ede-b41a-02a906f9fafb",
   "metadata": {},
   "source": [
    "***"
   ]
  },
  {
   "cell_type": "markdown",
   "id": "d97d4a65-d654-4581-8e38-08055f24cf15",
   "metadata": {},
   "source": [
    "## ___Complete DataFrame creation___"
   ]
  },
  {
   "cell_type": "code",
   "execution_count": 27,
   "id": "71119b72-64c0-4337-b9be-a6b01e2811a9",
   "metadata": {},
   "outputs": [
    {
     "data": {
      "text/plain": [
       "['Red.csv', 'Rose.csv', 'Sparkling.csv', 'White.csv']"
      ]
     },
     "execution_count": 27,
     "metadata": {},
     "output_type": "execute_result"
    }
   ],
   "source": [
    "# .csv files list creation\n",
    "csv_list = [csv for csv in wines_list if csv != 'Varieties.csv']\n",
    "csv_list"
   ]
  },
  {
   "cell_type": "code",
   "execution_count": 28,
   "id": "bb664685-5eff-4791-a4e7-b7e03ab2f7f7",
   "metadata": {},
   "outputs": [],
   "source": [
    "# .csv files are in csv_pth path\n",
    "df_wines_list = []   # empty list\n",
    "\n",
    "# This loop appends df to df_wines_list\n",
    "for el in csv_list:\n",
    "    df_tmp = pd.read_csv(csv_pth + el)\n",
    "    fileName_pth = os.path.basename(el)           # Taking filename\n",
    "    wineType = fileName_pth.replace(\".csv\", \"\")   # Cleaning filename\n",
    "    df_tmp[\"Type\"] = wineType                     # Appending filename to new column\n",
    "    df_wines_list.append(df_tmp)"
   ]
  },
  {
   "cell_type": "code",
   "execution_count": 29,
   "id": "bda8d919-c88a-44df-b014-198493b8c3a1",
   "metadata": {},
   "outputs": [
    {
     "data": {
      "text/html": [
       "<div>\n",
       "<style scoped>\n",
       "    .dataframe tbody tr th:only-of-type {\n",
       "        vertical-align: middle;\n",
       "    }\n",
       "\n",
       "    .dataframe tbody tr th {\n",
       "        vertical-align: top;\n",
       "    }\n",
       "\n",
       "    .dataframe thead th {\n",
       "        text-align: right;\n",
       "    }\n",
       "</style>\n",
       "<table border=\"1\" class=\"dataframe\">\n",
       "  <thead>\n",
       "    <tr style=\"text-align: right;\">\n",
       "      <th></th>\n",
       "      <th>Name</th>\n",
       "      <th>Country</th>\n",
       "      <th>Region</th>\n",
       "      <th>Winery</th>\n",
       "      <th>Rating</th>\n",
       "      <th>NumberOfRatings</th>\n",
       "      <th>Price</th>\n",
       "      <th>Year</th>\n",
       "      <th>Type</th>\n",
       "    </tr>\n",
       "  </thead>\n",
       "  <tbody>\n",
       "    <tr>\n",
       "      <th>10414</th>\n",
       "      <td>Chante-Alouette Hermitage Blanc 1999</td>\n",
       "      <td>France</td>\n",
       "      <td>Hermitage</td>\n",
       "      <td>M. Chapoutier</td>\n",
       "      <td>3.4</td>\n",
       "      <td>30</td>\n",
       "      <td>55.95</td>\n",
       "      <td>1999</td>\n",
       "      <td>White</td>\n",
       "    </tr>\n",
       "    <tr>\n",
       "      <th>6183</th>\n",
       "      <td>Terre Pourpre Visan 2017</td>\n",
       "      <td>France</td>\n",
       "      <td>Côtes-du-Rhône-Villages 'Visan'</td>\n",
       "      <td>Domaine La Florane</td>\n",
       "      <td>4.0</td>\n",
       "      <td>53</td>\n",
       "      <td>15.50</td>\n",
       "      <td>2017</td>\n",
       "      <td>Red</td>\n",
       "    </tr>\n",
       "    <tr>\n",
       "      <th>11050</th>\n",
       "      <td>Lesca Chardonnay 2018</td>\n",
       "      <td>South Africa</td>\n",
       "      <td>Robertson</td>\n",
       "      <td>De Wetshof</td>\n",
       "      <td>3.9</td>\n",
       "      <td>44</td>\n",
       "      <td>13.58</td>\n",
       "      <td>2018</td>\n",
       "      <td>White</td>\n",
       "    </tr>\n",
       "    <tr>\n",
       "      <th>3354</th>\n",
       "      <td>Aglianico Campania 2016</td>\n",
       "      <td>Italy</td>\n",
       "      <td>Campania</td>\n",
       "      <td>Mastroberardino</td>\n",
       "      <td>3.7</td>\n",
       "      <td>276</td>\n",
       "      <td>10.70</td>\n",
       "      <td>2016</td>\n",
       "      <td>Red</td>\n",
       "    </tr>\n",
       "    <tr>\n",
       "      <th>12660</th>\n",
       "      <td>Goru el Blanco 2018</td>\n",
       "      <td>Spain</td>\n",
       "      <td>Jumilla</td>\n",
       "      <td>EGO</td>\n",
       "      <td>3.6</td>\n",
       "      <td>140</td>\n",
       "      <td>6.29</td>\n",
       "      <td>2018</td>\n",
       "      <td>White</td>\n",
       "    </tr>\n",
       "  </tbody>\n",
       "</table>\n",
       "</div>"
      ],
      "text/plain": [
       "                                       Name       Country  \\\n",
       "10414  Chante-Alouette Hermitage Blanc 1999        France   \n",
       "6183               Terre Pourpre Visan 2017        France   \n",
       "11050                 Lesca Chardonnay 2018  South Africa   \n",
       "3354                Aglianico Campania 2016         Italy   \n",
       "12660                   Goru el Blanco 2018         Spain   \n",
       "\n",
       "                                Region              Winery  Rating  \\\n",
       "10414                        Hermitage       M. Chapoutier     3.4   \n",
       "6183   Côtes-du-Rhône-Villages 'Visan'  Domaine La Florane     4.0   \n",
       "11050                        Robertson          De Wetshof     3.9   \n",
       "3354                          Campania     Mastroberardino     3.7   \n",
       "12660                          Jumilla                 EGO     3.6   \n",
       "\n",
       "       NumberOfRatings  Price  Year   Type  \n",
       "10414               30  55.95  1999  White  \n",
       "6183                53  15.50  2017    Red  \n",
       "11050               44  13.58  2018  White  \n",
       "3354               276  10.70  2016    Red  \n",
       "12660              140   6.29  2018  White  "
      ]
     },
     "execution_count": 29,
     "metadata": {},
     "output_type": "execute_result"
    }
   ],
   "source": [
    "df_wines = pd.concat(df_wines_list, ignore_index=True)\n",
    "df_wines.sample(5)"
   ]
  },
  {
   "cell_type": "code",
   "execution_count": 30,
   "id": "64acf28d-0d64-4871-9eb2-a83517d58005",
   "metadata": {},
   "outputs": [],
   "source": [
    "# Wine names preview\n",
    "# print(df_wines[\"Name\"].to_string())"
   ]
  },
  {
   "cell_type": "markdown",
   "id": "b1376eeb-8294-461f-8d66-6790898809a7",
   "metadata": {},
   "source": [
    "***"
   ]
  },
  {
   "cell_type": "markdown",
   "id": "6b38d753-29b8-4e58-a782-335a14c92eea",
   "metadata": {},
   "source": [
    "## ___DataFrame cleaning___"
   ]
  },
  {
   "cell_type": "markdown",
   "id": "8fc2db6c-da7b-4282-a2f9-96ee59d5c8ec",
   "metadata": {},
   "source": [
    "### ___Columns renaming___"
   ]
  },
  {
   "cell_type": "code",
   "execution_count": 31,
   "id": "49ae8316-d0fd-4172-bc9a-3808a8a57947",
   "metadata": {},
   "outputs": [
    {
     "data": {
      "text/html": [
       "<div>\n",
       "<style scoped>\n",
       "    .dataframe tbody tr th:only-of-type {\n",
       "        vertical-align: middle;\n",
       "    }\n",
       "\n",
       "    .dataframe tbody tr th {\n",
       "        vertical-align: top;\n",
       "    }\n",
       "\n",
       "    .dataframe thead th {\n",
       "        text-align: right;\n",
       "    }\n",
       "</style>\n",
       "<table border=\"1\" class=\"dataframe\">\n",
       "  <thead>\n",
       "    <tr style=\"text-align: right;\">\n",
       "      <th></th>\n",
       "      <th>Wine Name</th>\n",
       "      <th>Country</th>\n",
       "      <th>Region</th>\n",
       "      <th>Winery</th>\n",
       "      <th>Rating</th>\n",
       "      <th># Ratings</th>\n",
       "      <th>Price (€)</th>\n",
       "      <th>Year</th>\n",
       "      <th>Type</th>\n",
       "    </tr>\n",
       "  </thead>\n",
       "  <tbody>\n",
       "    <tr>\n",
       "      <th>0</th>\n",
       "      <td>Pomerol 2011</td>\n",
       "      <td>France</td>\n",
       "      <td>Pomerol</td>\n",
       "      <td>Château La Providence</td>\n",
       "      <td>4.2</td>\n",
       "      <td>100</td>\n",
       "      <td>95.00</td>\n",
       "      <td>2011</td>\n",
       "      <td>Red</td>\n",
       "    </tr>\n",
       "    <tr>\n",
       "      <th>1</th>\n",
       "      <td>Lirac 2017</td>\n",
       "      <td>France</td>\n",
       "      <td>Lirac</td>\n",
       "      <td>Château Mont-Redon</td>\n",
       "      <td>4.3</td>\n",
       "      <td>100</td>\n",
       "      <td>15.50</td>\n",
       "      <td>2017</td>\n",
       "      <td>Red</td>\n",
       "    </tr>\n",
       "    <tr>\n",
       "      <th>2</th>\n",
       "      <td>Erta e China Rosso di Toscana 2015</td>\n",
       "      <td>Italy</td>\n",
       "      <td>Toscana</td>\n",
       "      <td>Renzo Masi</td>\n",
       "      <td>3.9</td>\n",
       "      <td>100</td>\n",
       "      <td>7.45</td>\n",
       "      <td>2015</td>\n",
       "      <td>Red</td>\n",
       "    </tr>\n",
       "    <tr>\n",
       "      <th>3</th>\n",
       "      <td>Bardolino 2019</td>\n",
       "      <td>Italy</td>\n",
       "      <td>Bardolino</td>\n",
       "      <td>Cavalchina</td>\n",
       "      <td>3.5</td>\n",
       "      <td>100</td>\n",
       "      <td>8.72</td>\n",
       "      <td>2019</td>\n",
       "      <td>Red</td>\n",
       "    </tr>\n",
       "    <tr>\n",
       "      <th>4</th>\n",
       "      <td>Ried Scheibner Pinot Noir 2016</td>\n",
       "      <td>Austria</td>\n",
       "      <td>Carnuntum</td>\n",
       "      <td>Markowitsch</td>\n",
       "      <td>3.9</td>\n",
       "      <td>100</td>\n",
       "      <td>29.15</td>\n",
       "      <td>2016</td>\n",
       "      <td>Red</td>\n",
       "    </tr>\n",
       "  </tbody>\n",
       "</table>\n",
       "</div>"
      ],
      "text/plain": [
       "                            Wine Name  Country     Region  \\\n",
       "0                        Pomerol 2011   France    Pomerol   \n",
       "1                          Lirac 2017   France      Lirac   \n",
       "2  Erta e China Rosso di Toscana 2015    Italy    Toscana   \n",
       "3                      Bardolino 2019    Italy  Bardolino   \n",
       "4      Ried Scheibner Pinot Noir 2016  Austria  Carnuntum   \n",
       "\n",
       "                  Winery  Rating  # Ratings  Price (€)  Year Type  \n",
       "0  Château La Providence     4.2        100      95.00  2011  Red  \n",
       "1     Château Mont-Redon     4.3        100      15.50  2017  Red  \n",
       "2             Renzo Masi     3.9        100       7.45  2015  Red  \n",
       "3             Cavalchina     3.5        100       8.72  2019  Red  \n",
       "4            Markowitsch     3.9        100      29.15  2016  Red  "
      ]
     },
     "execution_count": 31,
     "metadata": {},
     "output_type": "execute_result"
    }
   ],
   "source": [
    "df_wines = df_wines.rename(columns={\"Name\" : \"Wine Name\", \"NumberOfRatings\" : \"# Ratings\", \"Price\" : \"Price (€)\"})\n",
    "df_wines.head(5)"
   ]
  },
  {
   "cell_type": "code",
   "execution_count": 32,
   "id": "8bff6fcc-033f-4175-8bd7-7bfc16613bc4",
   "metadata": {},
   "outputs": [
    {
     "name": "stdout",
     "output_type": "stream",
     "text": [
      "<class 'pandas.core.frame.DataFrame'>\n",
      "RangeIndex: 13834 entries, 0 to 13833\n",
      "Data columns (total 9 columns):\n",
      " #   Column     Non-Null Count  Dtype  \n",
      "---  ------     --------------  -----  \n",
      " 0   Wine Name  13834 non-null  object \n",
      " 1   Country    13834 non-null  object \n",
      " 2   Region     13834 non-null  object \n",
      " 3   Winery     13834 non-null  object \n",
      " 4   Rating     13834 non-null  float64\n",
      " 5   # Ratings  13834 non-null  int64  \n",
      " 6   Price (€)  13834 non-null  float64\n",
      " 7   Year       13834 non-null  object \n",
      " 8   Type       13834 non-null  object \n",
      "dtypes: float64(2), int64(1), object(6)\n",
      "memory usage: 972.8+ KB\n"
     ]
    }
   ],
   "source": [
    "df_wines.info()"
   ]
  },
  {
   "cell_type": "code",
   "execution_count": 33,
   "id": "b3754024-0094-4bfa-9c6f-daa769ac9117",
   "metadata": {},
   "outputs": [
    {
     "data": {
      "text/html": [
       "<div>\n",
       "<style scoped>\n",
       "    .dataframe tbody tr th:only-of-type {\n",
       "        vertical-align: middle;\n",
       "    }\n",
       "\n",
       "    .dataframe tbody tr th {\n",
       "        vertical-align: top;\n",
       "    }\n",
       "\n",
       "    .dataframe thead th {\n",
       "        text-align: right;\n",
       "    }\n",
       "</style>\n",
       "<table border=\"1\" class=\"dataframe\">\n",
       "  <thead>\n",
       "    <tr style=\"text-align: right;\">\n",
       "      <th></th>\n",
       "      <th>Wine Name</th>\n",
       "      <th>Country</th>\n",
       "      <th>Region</th>\n",
       "      <th>Winery</th>\n",
       "      <th>Rating</th>\n",
       "      <th># Ratings</th>\n",
       "      <th>Price (€)</th>\n",
       "      <th>Year</th>\n",
       "      <th>Type</th>\n",
       "    </tr>\n",
       "  </thead>\n",
       "  <tbody>\n",
       "    <tr>\n",
       "      <th>11070</th>\n",
       "      <td>Platin Riesling 2019</td>\n",
       "      <td>Austria</td>\n",
       "      <td>Kamptal</td>\n",
       "      <td>Jurtschitsch</td>\n",
       "      <td>3.6</td>\n",
       "      <td>44</td>\n",
       "      <td>10.09</td>\n",
       "      <td>2019</td>\n",
       "      <td>White</td>\n",
       "    </tr>\n",
       "    <tr>\n",
       "      <th>638</th>\n",
       "      <td>Appellation Syrah 2017</td>\n",
       "      <td>Argentina</td>\n",
       "      <td>Pedernal Valley</td>\n",
       "      <td>Pyros</td>\n",
       "      <td>3.8</td>\n",
       "      <td>120</td>\n",
       "      <td>13.95</td>\n",
       "      <td>2017</td>\n",
       "      <td>Red</td>\n",
       "    </tr>\n",
       "    <tr>\n",
       "      <th>2003</th>\n",
       "      <td>The Motorcycle Marvel 2016</td>\n",
       "      <td>South Africa</td>\n",
       "      <td>Coastal Region</td>\n",
       "      <td>Nederburg</td>\n",
       "      <td>3.8</td>\n",
       "      <td>183</td>\n",
       "      <td>18.42</td>\n",
       "      <td>2016</td>\n",
       "      <td>Red</td>\n",
       "    </tr>\n",
       "    <tr>\n",
       "      <th>8753</th>\n",
       "      <td>La Source Gabriel Côtes de Provence Rosé 2019</td>\n",
       "      <td>France</td>\n",
       "      <td>Côtes de Provence</td>\n",
       "      <td>Château La Tour de l'Évêque</td>\n",
       "      <td>3.9</td>\n",
       "      <td>38</td>\n",
       "      <td>8.55</td>\n",
       "      <td>2019</td>\n",
       "      <td>Rose</td>\n",
       "    </tr>\n",
       "    <tr>\n",
       "      <th>12504</th>\n",
       "      <td>Las Pizarras Chardonnay 2016</td>\n",
       "      <td>Chile</td>\n",
       "      <td>Aconcagua Costa</td>\n",
       "      <td>Errazuriz</td>\n",
       "      <td>4.2</td>\n",
       "      <td>121</td>\n",
       "      <td>64.00</td>\n",
       "      <td>2016</td>\n",
       "      <td>White</td>\n",
       "    </tr>\n",
       "  </tbody>\n",
       "</table>\n",
       "</div>"
      ],
      "text/plain": [
       "                                           Wine Name       Country  \\\n",
       "11070                           Platin Riesling 2019       Austria   \n",
       "638                           Appellation Syrah 2017     Argentina   \n",
       "2003                      The Motorcycle Marvel 2016  South Africa   \n",
       "8753   La Source Gabriel Côtes de Provence Rosé 2019        France   \n",
       "12504                   Las Pizarras Chardonnay 2016         Chile   \n",
       "\n",
       "                  Region                       Winery  Rating  # Ratings  \\\n",
       "11070            Kamptal                 Jurtschitsch     3.6         44   \n",
       "638      Pedernal Valley                        Pyros     3.8        120   \n",
       "2003      Coastal Region                    Nederburg     3.8        183   \n",
       "8753   Côtes de Provence  Château La Tour de l'Évêque     3.9         38   \n",
       "12504    Aconcagua Costa                    Errazuriz     4.2        121   \n",
       "\n",
       "       Price (€)  Year   Type  \n",
       "11070      10.09  2019  White  \n",
       "638        13.95  2017    Red  \n",
       "2003       18.42  2016    Red  \n",
       "8753        8.55  2019   Rose  \n",
       "12504      64.00  2016  White  "
      ]
     },
     "execution_count": 33,
     "metadata": {},
     "output_type": "execute_result"
    }
   ],
   "source": [
    "df_wines.sample(5)"
   ]
  },
  {
   "cell_type": "markdown",
   "id": "fcbc5582-7d98-4bab-bc54-25676762d00b",
   "metadata": {},
   "source": [
    "***"
   ]
  },
  {
   "cell_type": "markdown",
   "id": "9c10d56a-87a4-46ae-ad74-973de2c8fa7d",
   "metadata": {},
   "source": [
    "### ___\"Wine Name\" column strings cleaning___"
   ]
  },
  {
   "cell_type": "code",
   "execution_count": 34,
   "id": "b1c1a3c2-f164-4a7b-aa67-21d070208104",
   "metadata": {},
   "outputs": [],
   "source": [
    "# Wine years listing\n",
    "wines_year = df_wines[\"Year\"].sort_values().unique()\n",
    "\n",
    "# Year list creation\n",
    "year_list = [year for year in wines_year]\n",
    "# year_list"
   ]
  },
  {
   "cell_type": "code",
   "execution_count": 35,
   "id": "82e394c6",
   "metadata": {},
   "outputs": [],
   "source": [
    "# Cleaning \"Wine Name\" from numeric values and \"N.V.\" \n",
    "df_wines[\"Wine Name\"] = df_wines[\"Wine Name\"].str.rstrip(\" 1234567890\")  # Removing date strings at the end\n",
    "df_wines[\"Wine Name\"] = df_wines[\"Wine Name\"].str.rstrip(\" N.V.\")        # Removing \"N.V.\" string at the end\n",
    "\n",
    "# Capitalize first letter\n",
    "def capitalizer():\n",
    "    for x in df_wines[\"Wine Name\"]: \n",
    "        x = x.capitalize()\n",
    "    \n",
    "capitalizer()\n"
   ]
  },
  {
   "cell_type": "code",
   "execution_count": 36,
   "id": "17c56340",
   "metadata": {},
   "outputs": [],
   "source": [
    "# Wine names preview\n",
    "# print(df_wines[\"Wine Name\"].to_string())"
   ]
  },
  {
   "cell_type": "code",
   "execution_count": 37,
   "id": "afe97f91-ac15-4cc5-a409-2074c07a66ef",
   "metadata": {},
   "outputs": [
    {
     "data": {
      "text/html": [
       "<div>\n",
       "<style scoped>\n",
       "    .dataframe tbody tr th:only-of-type {\n",
       "        vertical-align: middle;\n",
       "    }\n",
       "\n",
       "    .dataframe tbody tr th {\n",
       "        vertical-align: top;\n",
       "    }\n",
       "\n",
       "    .dataframe thead th {\n",
       "        text-align: right;\n",
       "    }\n",
       "</style>\n",
       "<table border=\"1\" class=\"dataframe\">\n",
       "  <thead>\n",
       "    <tr style=\"text-align: right;\">\n",
       "      <th></th>\n",
       "      <th>Wine Name</th>\n",
       "      <th>Country</th>\n",
       "      <th>Region</th>\n",
       "      <th>Winery</th>\n",
       "      <th>Rating</th>\n",
       "      <th># Ratings</th>\n",
       "      <th>Price (€)</th>\n",
       "      <th>Year</th>\n",
       "      <th>Type</th>\n",
       "    </tr>\n",
       "  </thead>\n",
       "  <tbody>\n",
       "    <tr>\n",
       "      <th>0</th>\n",
       "      <td>Pomerol</td>\n",
       "      <td>France</td>\n",
       "      <td>Pomerol</td>\n",
       "      <td>Château La Providence</td>\n",
       "      <td>4.2</td>\n",
       "      <td>100</td>\n",
       "      <td>95.00</td>\n",
       "      <td>2011</td>\n",
       "      <td>Red</td>\n",
       "    </tr>\n",
       "    <tr>\n",
       "      <th>1</th>\n",
       "      <td>Lirac</td>\n",
       "      <td>France</td>\n",
       "      <td>Lirac</td>\n",
       "      <td>Château Mont-Redon</td>\n",
       "      <td>4.3</td>\n",
       "      <td>100</td>\n",
       "      <td>15.50</td>\n",
       "      <td>2017</td>\n",
       "      <td>Red</td>\n",
       "    </tr>\n",
       "    <tr>\n",
       "      <th>2</th>\n",
       "      <td>Erta e China Rosso di Toscana</td>\n",
       "      <td>Italy</td>\n",
       "      <td>Toscana</td>\n",
       "      <td>Renzo Masi</td>\n",
       "      <td>3.9</td>\n",
       "      <td>100</td>\n",
       "      <td>7.45</td>\n",
       "      <td>2015</td>\n",
       "      <td>Red</td>\n",
       "    </tr>\n",
       "    <tr>\n",
       "      <th>3</th>\n",
       "      <td>Bardolino</td>\n",
       "      <td>Italy</td>\n",
       "      <td>Bardolino</td>\n",
       "      <td>Cavalchina</td>\n",
       "      <td>3.5</td>\n",
       "      <td>100</td>\n",
       "      <td>8.72</td>\n",
       "      <td>2019</td>\n",
       "      <td>Red</td>\n",
       "    </tr>\n",
       "    <tr>\n",
       "      <th>4</th>\n",
       "      <td>Ried Scheibner Pinot Noir</td>\n",
       "      <td>Austria</td>\n",
       "      <td>Carnuntum</td>\n",
       "      <td>Markowitsch</td>\n",
       "      <td>3.9</td>\n",
       "      <td>100</td>\n",
       "      <td>29.15</td>\n",
       "      <td>2016</td>\n",
       "      <td>Red</td>\n",
       "    </tr>\n",
       "    <tr>\n",
       "      <th>...</th>\n",
       "      <td>...</td>\n",
       "      <td>...</td>\n",
       "      <td>...</td>\n",
       "      <td>...</td>\n",
       "      <td>...</td>\n",
       "      <td>...</td>\n",
       "      <td>...</td>\n",
       "      <td>...</td>\n",
       "      <td>...</td>\n",
       "    </tr>\n",
       "    <tr>\n",
       "      <th>13829</th>\n",
       "      <td>Sauvignon Blanc</td>\n",
       "      <td>New Zealand</td>\n",
       "      <td>Marlborough</td>\n",
       "      <td>Oyster Bay</td>\n",
       "      <td>4.0</td>\n",
       "      <td>4423</td>\n",
       "      <td>10.66</td>\n",
       "      <td>2019</td>\n",
       "      <td>White</td>\n",
       "    </tr>\n",
       "    <tr>\n",
       "      <th>13830</th>\n",
       "      <td>Vinho Verde Sweet</td>\n",
       "      <td>Portugal</td>\n",
       "      <td>Vinho Verde</td>\n",
       "      <td>Casal Garcia</td>\n",
       "      <td>4.0</td>\n",
       "      <td>4609</td>\n",
       "      <td>5.05</td>\n",
       "      <td>N.V.</td>\n",
       "      <td>White</td>\n",
       "    </tr>\n",
       "    <tr>\n",
       "      <th>13831</th>\n",
       "      <td>Sauvignon Blanc</td>\n",
       "      <td>New Zealand</td>\n",
       "      <td>Marlborough</td>\n",
       "      <td>Kim Crawford</td>\n",
       "      <td>3.9</td>\n",
       "      <td>5105</td>\n",
       "      <td>14.90</td>\n",
       "      <td>2018</td>\n",
       "      <td>White</td>\n",
       "    </tr>\n",
       "    <tr>\n",
       "      <th>13832</th>\n",
       "      <td>Sauvignon Blanc</td>\n",
       "      <td>New Zealand</td>\n",
       "      <td>Marlborough</td>\n",
       "      <td>Hans Greyl</td>\n",
       "      <td>4.2</td>\n",
       "      <td>5817</td>\n",
       "      <td>7.75</td>\n",
       "      <td>2019</td>\n",
       "      <td>White</td>\n",
       "    </tr>\n",
       "    <tr>\n",
       "      <th>13833</th>\n",
       "      <td>Vinho Verde Branco</td>\n",
       "      <td>Portugal</td>\n",
       "      <td>Vinho Verde</td>\n",
       "      <td>Casal Garcia</td>\n",
       "      <td>3.7</td>\n",
       "      <td>62980</td>\n",
       "      <td>4.35</td>\n",
       "      <td>N.V.</td>\n",
       "      <td>White</td>\n",
       "    </tr>\n",
       "  </tbody>\n",
       "</table>\n",
       "<p>13834 rows × 9 columns</p>\n",
       "</div>"
      ],
      "text/plain": [
       "                           Wine Name      Country       Region  \\\n",
       "0                            Pomerol       France      Pomerol   \n",
       "1                              Lirac       France        Lirac   \n",
       "2      Erta e China Rosso di Toscana        Italy      Toscana   \n",
       "3                          Bardolino        Italy    Bardolino   \n",
       "4          Ried Scheibner Pinot Noir      Austria    Carnuntum   \n",
       "...                              ...          ...          ...   \n",
       "13829                Sauvignon Blanc  New Zealand  Marlborough   \n",
       "13830              Vinho Verde Sweet     Portugal  Vinho Verde   \n",
       "13831                Sauvignon Blanc  New Zealand  Marlborough   \n",
       "13832                Sauvignon Blanc  New Zealand  Marlborough   \n",
       "13833             Vinho Verde Branco     Portugal  Vinho Verde   \n",
       "\n",
       "                      Winery  Rating  # Ratings  Price (€)  Year   Type  \n",
       "0      Château La Providence     4.2        100      95.00  2011    Red  \n",
       "1         Château Mont-Redon     4.3        100      15.50  2017    Red  \n",
       "2                 Renzo Masi     3.9        100       7.45  2015    Red  \n",
       "3                 Cavalchina     3.5        100       8.72  2019    Red  \n",
       "4                Markowitsch     3.9        100      29.15  2016    Red  \n",
       "...                      ...     ...        ...        ...   ...    ...  \n",
       "13829             Oyster Bay     4.0       4423      10.66  2019  White  \n",
       "13830           Casal Garcia     4.0       4609       5.05  N.V.  White  \n",
       "13831           Kim Crawford     3.9       5105      14.90  2018  White  \n",
       "13832             Hans Greyl     4.2       5817       7.75  2019  White  \n",
       "13833           Casal Garcia     3.7      62980       4.35  N.V.  White  \n",
       "\n",
       "[13834 rows x 9 columns]"
      ]
     },
     "execution_count": 37,
     "metadata": {},
     "output_type": "execute_result"
    }
   ],
   "source": [
    "df_wines"
   ]
  },
  {
   "cell_type": "markdown",
   "id": "65ccabc3-c0be-4b14-8f22-3d03bfd81360",
   "metadata": {},
   "source": [
    "***"
   ]
  },
  {
   "cell_type": "code",
   "execution_count": 45,
   "id": "c5499003",
   "metadata": {},
   "outputs": [
    {
     "data": {
      "text/plain": [
       "3410.79"
      ]
     },
     "execution_count": 45,
     "metadata": {},
     "output_type": "execute_result"
    }
   ],
   "source": [
    "df_wines[\"Price (€)\"].max()"
   ]
  },
  {
   "cell_type": "code",
   "execution_count": 44,
   "id": "d772c305",
   "metadata": {},
   "outputs": [
    {
     "data": {
      "text/plain": [
       "3.15"
      ]
     },
     "execution_count": 44,
     "metadata": {},
     "output_type": "execute_result"
    }
   ],
   "source": [
    "df_wines[\"Price (€)\"].min()"
   ]
  },
  {
   "cell_type": "code",
   "execution_count": 48,
   "id": "eac42837",
   "metadata": {},
   "outputs": [
    {
     "data": {
      "text/plain": [
       "9163     3.15\n",
       "9324     3.15\n",
       "5423     3.55\n",
       "9045     3.67\n",
       "2938     3.70\n",
       "8679     3.70\n",
       "12535    3.74\n",
       "10729    3.75\n",
       "10892    3.75\n",
       "10410    3.79\n",
       "6408     3.79\n",
       "9528     3.90\n",
       "108      3.95\n",
       "13764    3.95\n",
       "8701     3.95\n",
       "6869     3.99\n",
       "9461     3.99\n",
       "7821     3.99\n",
       "10418    4.00\n",
       "8789     4.15\n",
       "1057     4.16\n",
       "4033     4.25\n",
       "8837     4.25\n",
       "11964    4.25\n",
       "11541    4.25\n",
       "10426    4.28\n",
       "6127     4.28\n",
       "13126    4.29\n",
       "4675     4.30\n",
       "2644     4.30\n",
       "2455     4.31\n",
       "9061     4.35\n",
       "13833    4.35\n",
       "10230    4.38\n",
       "12849    4.40\n",
       "12944    4.40\n",
       "5138     4.44\n",
       "3031     4.45\n",
       "7100     4.45\n",
       "4634     4.47\n",
       "5807     4.50\n",
       "10152    4.50\n",
       "3322     4.50\n",
       "12575    4.50\n",
       "10736    4.54\n",
       "4364     4.55\n",
       "10560    4.57\n",
       "1084     4.57\n",
       "8007     4.57\n",
       "13210    4.60\n",
       "Name: Price (€), dtype: float64"
      ]
     },
     "execution_count": 48,
     "metadata": {},
     "output_type": "execute_result"
    }
   ],
   "source": [
    "df_wines[\"Price (€)\"].sort_values().head(50)"
   ]
  },
  {
   "cell_type": "markdown",
   "id": "b947a0ff-0496-4206-af00-c09a6a0f1c70",
   "metadata": {},
   "source": [
    "### ___Exporting___"
   ]
  },
  {
   "cell_type": "markdown",
   "id": "24f06016-f9c2-4381-8090-1db3e651b55e",
   "metadata": {},
   "source": [
    "<div class=\"alert alert-block alert-warning\">\n",
    "<b>NOTICE:</b>\n",
    "<br>\n",
    "<b><u>Decomment the rows below only after data cleaning!</u></b>\n",
    "</div>"
   ]
  },
  {
   "cell_type": "code",
   "execution_count": 41,
   "id": "2578b708-a905-4cef-b8bb-2126bf71b246",
   "metadata": {},
   "outputs": [
    {
     "data": {
      "text/plain": [
       "'c:\\\\Users\\\\danie\\\\Desktop\\\\DANIEL\\\\KAGGLE_PROJECTS\\\\wine_rating_price\\\\data'"
      ]
     },
     "execution_count": 41,
     "metadata": {},
     "output_type": "execute_result"
    }
   ],
   "source": [
    "# os.getcwd()"
   ]
  },
  {
   "cell_type": "code",
   "execution_count": 42,
   "id": "e072bbd1-5958-431b-af04-16215a40421e",
   "metadata": {},
   "outputs": [],
   "source": [
    "# # EXPORTING COMPLETE DATAFRAME TO \"data\" FOLDER\n",
    "# df_wines.to_csv('df_wines_clean.csv')"
   ]
  },
  {
   "cell_type": "markdown",
   "id": "5ead3478-cd9a-4345-9c01-c65df4d42515",
   "metadata": {},
   "source": [
    "***"
   ]
  },
  {
   "cell_type": "markdown",
   "id": "38f6d021-84b3-4139-8b41-f3cc9684ef0b",
   "metadata": {},
   "source": [
    "## ___DataFrame describing___"
   ]
  },
  {
   "cell_type": "code",
   "execution_count": null,
   "id": "773eebd0-d498-42cb-b588-a6335b8db220",
   "metadata": {},
   "outputs": [
    {
     "data": {
      "text/html": [
       "<div>\n",
       "<style scoped>\n",
       "    .dataframe tbody tr th:only-of-type {\n",
       "        vertical-align: middle;\n",
       "    }\n",
       "\n",
       "    .dataframe tbody tr th {\n",
       "        vertical-align: top;\n",
       "    }\n",
       "\n",
       "    .dataframe thead th {\n",
       "        text-align: right;\n",
       "    }\n",
       "</style>\n",
       "<table border=\"1\" class=\"dataframe\">\n",
       "  <thead>\n",
       "    <tr style=\"text-align: right;\">\n",
       "      <th></th>\n",
       "      <th>Rating</th>\n",
       "      <th># Ratings</th>\n",
       "      <th>Price (€)</th>\n",
       "    </tr>\n",
       "  </thead>\n",
       "  <tbody>\n",
       "    <tr>\n",
       "      <th>count</th>\n",
       "      <td>13834.00</td>\n",
       "      <td>13834.00</td>\n",
       "      <td>13834.00</td>\n",
       "    </tr>\n",
       "    <tr>\n",
       "      <th>mean</th>\n",
       "      <td>3.87</td>\n",
       "      <td>428.32</td>\n",
       "      <td>33.02</td>\n",
       "    </tr>\n",
       "    <tr>\n",
       "      <th>std</th>\n",
       "      <td>0.30</td>\n",
       "      <td>1838.41</td>\n",
       "      <td>70.90</td>\n",
       "    </tr>\n",
       "    <tr>\n",
       "      <th>min</th>\n",
       "      <td>2.20</td>\n",
       "      <td>25.00</td>\n",
       "      <td>3.15</td>\n",
       "    </tr>\n",
       "    <tr>\n",
       "      <th>25%</th>\n",
       "      <td>3.70</td>\n",
       "      <td>56.00</td>\n",
       "      <td>9.90</td>\n",
       "    </tr>\n",
       "    <tr>\n",
       "      <th>50%</th>\n",
       "      <td>3.90</td>\n",
       "      <td>129.00</td>\n",
       "      <td>15.95</td>\n",
       "    </tr>\n",
       "    <tr>\n",
       "      <th>75%</th>\n",
       "      <td>4.10</td>\n",
       "      <td>336.00</td>\n",
       "      <td>32.50</td>\n",
       "    </tr>\n",
       "    <tr>\n",
       "      <th>max</th>\n",
       "      <td>4.90</td>\n",
       "      <td>94287.00</td>\n",
       "      <td>3410.79</td>\n",
       "    </tr>\n",
       "  </tbody>\n",
       "</table>\n",
       "</div>"
      ],
      "text/plain": [
       "         Rating  # Ratings  Price (€)\n",
       "count  13834.00   13834.00   13834.00\n",
       "mean       3.87     428.32      33.02\n",
       "std        0.30    1838.41      70.90\n",
       "min        2.20      25.00       3.15\n",
       "25%        3.70      56.00       9.90\n",
       "50%        3.90     129.00      15.95\n",
       "75%        4.10     336.00      32.50\n",
       "max        4.90   94287.00    3410.79"
      ]
     },
     "execution_count": 40,
     "metadata": {},
     "output_type": "execute_result"
    }
   ],
   "source": [
    "round(df_wines.describe(), 2)"
   ]
  },
  {
   "cell_type": "markdown",
   "id": "cf228402-63ec-482d-9dcd-3122ddea0a5f",
   "metadata": {},
   "source": [
    "### ___Stats plotting___"
   ]
  },
  {
   "cell_type": "code",
   "execution_count": null,
   "id": "a76d5426-947f-4589-ba72-20ae3837c449",
   "metadata": {},
   "outputs": [
    {
     "data": {
      "image/png": "[encoded data removed]",
      "text/plain": [
       "<Figure size 1500x900 with 1 Axes>"
      ]
     },
     "metadata": {},
     "output_type": "display_data"
    }
   ],
   "source": [
    "# Boxplot (Matplotlib/Seaborn)\n",
    "\n",
    "plt.figure(figsize=(15,9))\n",
    "sns.boxplot(data=df_wines, x=\"Rating\", y=\"Country\", fliersize=2, linewidth=1)\n",
    "plt.grid(axis='y', linestyle='--', linewidth=.5)\n",
    "\n",
    "# Title, labels\n",
    "plt.title('Wines rating per Country')\n",
    "plt.xlabel(None)\n",
    "plt.ylabel(None)\n",
    "plt.show()"
   ]
  },
  {
   "cell_type": "markdown",
   "id": "b90df628-e2ca-4f01-9b30-6e791c127ee9",
   "metadata": {},
   "source": [
    "***"
   ]
  },
  {
   "cell_type": "markdown",
   "id": "6cb2c9d2-96f7-485a-a0da-f7d77849772c",
   "metadata": {},
   "source": [
    "### ___Reordering values by Rating___"
   ]
  },
  {
   "cell_type": "code",
   "execution_count": null,
   "id": "87d697f8-6472-48f7-9313-f9e1e00c0622",
   "metadata": {},
   "outputs": [
    {
     "data": {
      "text/html": [
       "<div>\n",
       "<style scoped>\n",
       "    .dataframe tbody tr th:only-of-type {\n",
       "        vertical-align: middle;\n",
       "    }\n",
       "\n",
       "    .dataframe tbody tr th {\n",
       "        vertical-align: top;\n",
       "    }\n",
       "\n",
       "    .dataframe thead th {\n",
       "        text-align: right;\n",
       "    }\n",
       "</style>\n",
       "<table border=\"1\" class=\"dataframe\">\n",
       "  <thead>\n",
       "    <tr style=\"text-align: right;\">\n",
       "      <th></th>\n",
       "      <th>Wine Name</th>\n",
       "      <th>Country</th>\n",
       "      <th>Region</th>\n",
       "      <th>Winery</th>\n",
       "      <th>Rating</th>\n",
       "      <th># Ratings</th>\n",
       "      <th>Price (€)</th>\n",
       "      <th>Year</th>\n",
       "      <th>Type</th>\n",
       "    </tr>\n",
       "  </thead>\n",
       "  <tbody>\n",
       "    <tr>\n",
       "      <th>10611</th>\n",
       "      <td>Montrachet Grand Cru Marquis de Laguiche</td>\n",
       "      <td>France</td>\n",
       "      <td>Montrachet Grand Cru</td>\n",
       "      <td>Joseph Drouhin</td>\n",
       "      <td>4.9</td>\n",
       "      <td>34</td>\n",
       "      <td>681.37</td>\n",
       "      <td>2017</td>\n",
       "      <td>White</td>\n",
       "    </tr>\n",
       "    <tr>\n",
       "      <th>3747</th>\n",
       "      <td>Beckstoffer Las Piedras Vineyard Cabernet Sauv...</td>\n",
       "      <td>United States</td>\n",
       "      <td>St. Helena</td>\n",
       "      <td>Paul Hobbs</td>\n",
       "      <td>4.8</td>\n",
       "      <td>30</td>\n",
       "      <td>368.47</td>\n",
       "      <td>2015</td>\n",
       "      <td>Red</td>\n",
       "    </tr>\n",
       "    <tr>\n",
       "      <th>4031</th>\n",
       "      <td>L'Ermita Velles Vinyes Priorat</td>\n",
       "      <td>Spain</td>\n",
       "      <td>Priorat</td>\n",
       "      <td>Álvaro Palacios</td>\n",
       "      <td>4.8</td>\n",
       "      <td>32</td>\n",
       "      <td>672.60</td>\n",
       "      <td>2008</td>\n",
       "      <td>Red</td>\n",
       "    </tr>\n",
       "    <tr>\n",
       "      <th>3420</th>\n",
       "      <td>G</td>\n",
       "      <td>South Africa</td>\n",
       "      <td>Western Cape</td>\n",
       "      <td>4G Wine Estate</td>\n",
       "      <td>4.8</td>\n",
       "      <td>28</td>\n",
       "      <td>463.03</td>\n",
       "      <td>2015</td>\n",
       "      <td>Red</td>\n",
       "    </tr>\n",
       "    <tr>\n",
       "      <th>8073</th>\n",
       "      <td>Toscana</td>\n",
       "      <td>Italy</td>\n",
       "      <td>Toscana</td>\n",
       "      <td>Masseto</td>\n",
       "      <td>4.8</td>\n",
       "      <td>85</td>\n",
       "      <td>960.17</td>\n",
       "      <td>2016</td>\n",
       "      <td>Red</td>\n",
       "    </tr>\n",
       "    <tr>\n",
       "      <th>...</th>\n",
       "      <td>...</td>\n",
       "      <td>...</td>\n",
       "      <td>...</td>\n",
       "      <td>...</td>\n",
       "      <td>...</td>\n",
       "      <td>...</td>\n",
       "      <td>...</td>\n",
       "      <td>...</td>\n",
       "      <td>...</td>\n",
       "    </tr>\n",
       "    <tr>\n",
       "      <th>4176</th>\n",
       "      <td>Marche Rosso</td>\n",
       "      <td>Italy</td>\n",
       "      <td>Marche</td>\n",
       "      <td>Roberto Lucarelli</td>\n",
       "      <td>2.6</td>\n",
       "      <td>33</td>\n",
       "      <td>11.50</td>\n",
       "      <td>2015</td>\n",
       "      <td>Red</td>\n",
       "    </tr>\n",
       "    <tr>\n",
       "      <th>13764</th>\n",
       "      <td>Retsina</td>\n",
       "      <td>Greece</td>\n",
       "      <td>Macedonia</td>\n",
       "      <td>Tsantali</td>\n",
       "      <td>2.6</td>\n",
       "      <td>1011</td>\n",
       "      <td>3.95</td>\n",
       "      <td>N.V.</td>\n",
       "      <td>White</td>\n",
       "    </tr>\n",
       "    <tr>\n",
       "      <th>6335</th>\n",
       "      <td>Cabernet Sauvignon</td>\n",
       "      <td>South Africa</td>\n",
       "      <td>Cape Town</td>\n",
       "      <td>Cape Town Wine Co</td>\n",
       "      <td>2.5</td>\n",
       "      <td>55</td>\n",
       "      <td>7.50</td>\n",
       "      <td>2018</td>\n",
       "      <td>Red</td>\n",
       "    </tr>\n",
       "    <tr>\n",
       "      <th>4998</th>\n",
       "      <td>Cabernet Sauvignon</td>\n",
       "      <td>France</td>\n",
       "      <td>Pays d'Oc</td>\n",
       "      <td>Fortant</td>\n",
       "      <td>2.5</td>\n",
       "      <td>40</td>\n",
       "      <td>8.29</td>\n",
       "      <td>2016</td>\n",
       "      <td>Red</td>\n",
       "    </tr>\n",
       "    <tr>\n",
       "      <th>11947</th>\n",
       "      <td>Greca Terra Retsina</td>\n",
       "      <td>Greece</td>\n",
       "      <td>Peloponnesos</td>\n",
       "      <td>Tsantali</td>\n",
       "      <td>2.2</td>\n",
       "      <td>77</td>\n",
       "      <td>5.35</td>\n",
       "      <td>N.V.</td>\n",
       "      <td>White</td>\n",
       "    </tr>\n",
       "  </tbody>\n",
       "</table>\n",
       "<p>13834 rows × 9 columns</p>\n",
       "</div>"
      ],
      "text/plain": [
       "                                               Wine Name        Country  \\\n",
       "10611           Montrachet Grand Cru Marquis de Laguiche         France   \n",
       "3747   Beckstoffer Las Piedras Vineyard Cabernet Sauv...  United States   \n",
       "4031                      L'Ermita Velles Vinyes Priorat          Spain   \n",
       "3420                                                   G   South Africa   \n",
       "8073                                             Toscana          Italy   \n",
       "...                                                  ...            ...   \n",
       "4176                                        Marche Rosso          Italy   \n",
       "13764                                            Retsina         Greece   \n",
       "6335                                  Cabernet Sauvignon   South Africa   \n",
       "4998                                  Cabernet Sauvignon         France   \n",
       "11947                                Greca Terra Retsina         Greece   \n",
       "\n",
       "                     Region             Winery  Rating  # Ratings  Price (€)  \\\n",
       "10611  Montrachet Grand Cru     Joseph Drouhin     4.9         34     681.37   \n",
       "3747             St. Helena         Paul Hobbs     4.8         30     368.47   \n",
       "4031                Priorat    Álvaro Palacios     4.8         32     672.60   \n",
       "3420           Western Cape     4G Wine Estate     4.8         28     463.03   \n",
       "8073                Toscana            Masseto     4.8         85     960.17   \n",
       "...                     ...                ...     ...        ...        ...   \n",
       "4176                 Marche  Roberto Lucarelli     2.6         33      11.50   \n",
       "13764             Macedonia           Tsantali     2.6       1011       3.95   \n",
       "6335              Cape Town  Cape Town Wine Co     2.5         55       7.50   \n",
       "4998              Pays d'Oc            Fortant     2.5         40       8.29   \n",
       "11947          Peloponnesos           Tsantali     2.2         77       5.35   \n",
       "\n",
       "       Year   Type  \n",
       "10611  2017  White  \n",
       "3747   2015    Red  \n",
       "4031   2008    Red  \n",
       "3420   2015    Red  \n",
       "8073   2016    Red  \n",
       "...     ...    ...  \n",
       "4176   2015    Red  \n",
       "13764  N.V.  White  \n",
       "6335   2018    Red  \n",
       "4998   2016    Red  \n",
       "11947  N.V.  White  \n",
       "\n",
       "[13834 rows x 9 columns]"
      ]
     },
     "execution_count": 42,
     "metadata": {},
     "output_type": "execute_result"
    }
   ],
   "source": [
    "df_wines_rating = df_wines.sort_values(\"Rating\", ascending=False)\n",
    "df_wines_rating"
   ]
  },
  {
   "cell_type": "code",
   "execution_count": null,
   "id": "15c7c3cc-7c76-49ef-bed3-7d1e8d11aaa5",
   "metadata": {},
   "outputs": [
    {
     "data": {
      "text/plain": [
       "Text(0, 0.5, '')"
      ]
     },
     "execution_count": 43,
     "metadata": {},
     "output_type": "execute_result"
    },
    {
     "data": {
      "image/png": "[encoded data removed]",
      "text/plain": [
       "<Figure size 1500x900 with 1 Axes>"
      ]
     },
     "metadata": {},
     "output_type": "display_data"
    }
   ],
   "source": [
    "# Replotting boxplot (Matplotlib/Seaborn)\n",
    "\n",
    "plt.figure(figsize=(15,9))\n",
    "sns.boxplot(data=df_wines_rating, x=\"Rating\", y=\"Country\", fliersize=2, linewidth=1)\n",
    "plt.grid(axis='y', linestyle='--', linewidth=.5)\n",
    "\n",
    "# Title, labels\n",
    "plt.title('Wines rating per Country')\n",
    "plt.xlabel(None)\n",
    "plt.ylabel(None)\n",
    "# plt.show()"
   ]
  },
  {
   "cell_type": "markdown",
   "id": "9aa6499d-3f77-4e09-849b-7fff89379431",
   "metadata": {},
   "source": [
    "***"
   ]
  },
  {
   "cell_type": "markdown",
   "id": "14ce740c-0388-4557-9681-a15cb8b05d50",
   "metadata": {},
   "source": [
    "### ___Plotting Rating/Price scatterplot___"
   ]
  },
  {
   "cell_type": "code",
   "execution_count": null,
   "id": "32a8014f-59ad-45e6-81f7-e8c6d211fbe4",
   "metadata": {},
   "outputs": [
    {
     "data": {
      "text/plain": [
       "<matplotlib.legend.Legend at 0x1b04f262d20>"
      ]
     },
     "execution_count": 44,
     "metadata": {},
     "output_type": "execute_result"
    },
    {
     "data": {
      "image/png": "[encoded data removed]",
      "text/plain": [
       "<Figure size 1500x600 with 1 Axes>"
      ]
     },
     "metadata": {},
     "output_type": "display_data"
    }
   ],
   "source": [
    "# Replotting boxplot (Matplotlib/Seaborn)\n",
    "\n",
    "plt.figure(figsize=(15,6))\n",
    "sns.scatterplot(data=df_wines_rating, x=\"Price (€)\", y=\"Rating\", hue=\"Rating\", alpha=0.6, size=\"Rating\", linewidth=0)\n",
    "\n",
    "# Grid styling, axis scales\n",
    "plt.grid(axis='x', linestyle='--', linewidth=0.3)\n",
    "plt.grid(axis='y', linestyle='--', linewidth=0.3)\n",
    "plt.xscale(\"log\")  # x scale\n",
    "\n",
    "# Title, labels, legend positioning\n",
    "plt.title('Wines Rating per Price')\n",
    "plt.xlabel(\"Price (€)\")\n",
    "plt.ylabel(\"Rating\")\n",
    "plt.legend(loc=4)  # legend position\n",
    "# plt.show()"
   ]
  },
  {
   "cell_type": "markdown",
   "id": "d784fab7-c508-470c-a63b-ba4b224734ec",
   "metadata": {},
   "source": [
    "***"
   ]
  },
  {
   "cell_type": "markdown",
   "id": "88d8d40f-e0fb-4109-ab3e-cd25b91ec7f1",
   "metadata": {},
   "source": [
    "### ___Plotting Rating-Country-Year/Price scatterplot___"
   ]
  },
  {
   "cell_type": "code",
   "execution_count": null,
   "id": "e0b033c9-b91e-4146-8f16-b4c42a40c150",
   "metadata": {},
   "outputs": [
    {
     "data": {
      "text/plain": [
       "<seaborn.axisgrid.FacetGrid at 0x1b04f7ff0e0>"
      ]
     },
     "execution_count": 112,
     "metadata": {},
     "output_type": "execute_result"
    },
    {
     "data": {
      "image/png": "[encoded data removed]",
      "text/plain": [
       "<Figure size 1200x600 with 4 Axes>"
      ]
     },
     "metadata": {},
     "output_type": "display_data"
    }
   ],
   "source": [
    "# Price per Country comparison\n",
    "g = sns.FacetGrid(df_wines, col=\"Type\", height=6, aspect=0.5)\n",
    "ax = g.map(sns.scatterplot, \"Price (€)\", \"Country\", alpha=0.6, linewidth=0)\n",
    "ax.tick_params(axis='x', labelrotation=0)"
   ]
  },
  {
   "cell_type": "code",
   "execution_count": null,
   "id": "5acb77ff-4652-4cd4-acbe-7313dfa8501c",
   "metadata": {},
   "outputs": [
    {
     "data": {
      "text/plain": [
       "<seaborn.axisgrid.FacetGrid at 0x1b06e6209e0>"
      ]
     },
     "execution_count": 100,
     "metadata": {},
     "output_type": "execute_result"
    },
    {
     "data": {
      "image/png": "[encoded data removed]",
      "text/plain": [
       "<Figure size 1200x600 with 4 Axes>"
      ]
     },
     "metadata": {},
     "output_type": "display_data"
    }
   ],
   "source": [
    "# Price per Rating comparison\n",
    "g = sns.FacetGrid(df_wines, col=\"Type\", height=6, aspect=0.5) # height + aspect(ratio) define size\n",
    "g.map(sns.scatterplot, \"Price (€)\", \"Rating\", alpha=0.6, linewidth=0)\n",
    "ax.tick_params(axis='x', labelrotation=45)"
   ]
  },
  {
   "cell_type": "code",
   "execution_count": null,
   "id": "9bf2ca02-8338-41c9-90ea-f810d51b4583",
   "metadata": {},
   "outputs": [
    {
     "data": {
      "text/plain": [
       "<seaborn.axisgrid.FacetGrid at 0x1b06a5784a0>"
      ]
     },
     "execution_count": 101,
     "metadata": {},
     "output_type": "execute_result"
    },
    {
     "data": {
      "image/png": "[encoded data removed]",
      "text/plain": [
       "<Figure size 1400x700 with 4 Axes>"
      ]
     },
     "metadata": {},
     "output_type": "display_data"
    }
   ],
   "source": [
    "# Price per Year comparison\n",
    "df_wines_years = df_wines.sort_values(\"Year\", ascending=False)\n",
    "\n",
    "g = sns.FacetGrid(df_wines_years, col=\"Type\", height=7, aspect=0.5)\n",
    "ax = g.map(sns.scatterplot, \"Price (€)\", \"Year\", alpha=0.6, linewidth=0)\n",
    "ax.tick_params(axis='x', labelrotation=0)"
   ]
  },
  {
   "cell_type": "markdown",
   "id": "656809f7-ca2a-48ac-8e1e-8393b351befb",
   "metadata": {},
   "source": [
    "***"
   ]
  },
  {
   "cell_type": "markdown",
   "id": "5446c22b-ad39-4bff-a559-14eb76eb25f8",
   "metadata": {},
   "source": [
    "## ___Comparation between wines from France and Italy___"
   ]
  },
  {
   "cell_type": "code",
   "execution_count": null,
   "id": "f389b580-90a6-4766-a0c8-19d060ca2e66",
   "metadata": {},
   "outputs": [
    {
     "data": {
      "text/html": [
       "<div>\n",
       "<style scoped>\n",
       "    .dataframe tbody tr th:only-of-type {\n",
       "        vertical-align: middle;\n",
       "    }\n",
       "\n",
       "    .dataframe tbody tr th {\n",
       "        vertical-align: top;\n",
       "    }\n",
       "\n",
       "    .dataframe thead th {\n",
       "        text-align: right;\n",
       "    }\n",
       "</style>\n",
       "<table border=\"1\" class=\"dataframe\">\n",
       "  <thead>\n",
       "    <tr style=\"text-align: right;\">\n",
       "      <th></th>\n",
       "      <th>Wine Name</th>\n",
       "      <th>Country</th>\n",
       "      <th>Region</th>\n",
       "      <th>Winery</th>\n",
       "      <th>Rating</th>\n",
       "      <th># Ratings</th>\n",
       "      <th>Price (€)</th>\n",
       "      <th>Year</th>\n",
       "      <th>Type</th>\n",
       "    </tr>\n",
       "  </thead>\n",
       "  <tbody>\n",
       "    <tr>\n",
       "      <th>0</th>\n",
       "      <td>Pomerol</td>\n",
       "      <td>France</td>\n",
       "      <td>Pomerol</td>\n",
       "      <td>Château La Providence</td>\n",
       "      <td>4.2</td>\n",
       "      <td>100</td>\n",
       "      <td>95.00</td>\n",
       "      <td>2011</td>\n",
       "      <td>Red</td>\n",
       "    </tr>\n",
       "    <tr>\n",
       "      <th>1</th>\n",
       "      <td>Lirac</td>\n",
       "      <td>France</td>\n",
       "      <td>Lirac</td>\n",
       "      <td>Château Mont-Redon</td>\n",
       "      <td>4.3</td>\n",
       "      <td>100</td>\n",
       "      <td>15.50</td>\n",
       "      <td>2017</td>\n",
       "      <td>Red</td>\n",
       "    </tr>\n",
       "    <tr>\n",
       "      <th>2</th>\n",
       "      <td>Erta e China Rosso di Toscana</td>\n",
       "      <td>Italy</td>\n",
       "      <td>Toscana</td>\n",
       "      <td>Renzo Masi</td>\n",
       "      <td>3.9</td>\n",
       "      <td>100</td>\n",
       "      <td>7.45</td>\n",
       "      <td>2015</td>\n",
       "      <td>Red</td>\n",
       "    </tr>\n",
       "    <tr>\n",
       "      <th>3</th>\n",
       "      <td>Bardolino</td>\n",
       "      <td>Italy</td>\n",
       "      <td>Bardolino</td>\n",
       "      <td>Cavalchina</td>\n",
       "      <td>3.5</td>\n",
       "      <td>100</td>\n",
       "      <td>8.72</td>\n",
       "      <td>2019</td>\n",
       "      <td>Red</td>\n",
       "    </tr>\n",
       "    <tr>\n",
       "      <th>5</th>\n",
       "      <td>Gigondas (Nobles Terrasses)</td>\n",
       "      <td>France</td>\n",
       "      <td>Gigondas</td>\n",
       "      <td>Vieux Clocher</td>\n",
       "      <td>3.7</td>\n",
       "      <td>100</td>\n",
       "      <td>19.90</td>\n",
       "      <td>2017</td>\n",
       "      <td>Red</td>\n",
       "    </tr>\n",
       "    <tr>\n",
       "      <th>...</th>\n",
       "      <td>...</td>\n",
       "      <td>...</td>\n",
       "      <td>...</td>\n",
       "      <td>...</td>\n",
       "      <td>...</td>\n",
       "      <td>...</td>\n",
       "      <td>...</td>\n",
       "      <td>...</td>\n",
       "      <td>...</td>\n",
       "    </tr>\n",
       "    <tr>\n",
       "      <th>13808</th>\n",
       "      <td>Drouhin - Vaudon Chablis Réserve De Vaudon</td>\n",
       "      <td>France</td>\n",
       "      <td>Chablis</td>\n",
       "      <td>Joseph Drouhin</td>\n",
       "      <td>4.0</td>\n",
       "      <td>1721</td>\n",
       "      <td>21.34</td>\n",
       "      <td>2018</td>\n",
       "      <td>White</td>\n",
       "    </tr>\n",
       "    <tr>\n",
       "      <th>13813</th>\n",
       "      <td>Pouilly-Fumé</td>\n",
       "      <td>France</td>\n",
       "      <td>Pouilly-Fumé</td>\n",
       "      <td>de Ladoucette</td>\n",
       "      <td>4.1</td>\n",
       "      <td>1903</td>\n",
       "      <td>68.00</td>\n",
       "      <td>2017</td>\n",
       "      <td>White</td>\n",
       "    </tr>\n",
       "    <tr>\n",
       "      <th>13820</th>\n",
       "      <td>Chablis</td>\n",
       "      <td>France</td>\n",
       "      <td>Chablis</td>\n",
       "      <td>William Fèvre</td>\n",
       "      <td>3.8</td>\n",
       "      <td>2487</td>\n",
       "      <td>22.39</td>\n",
       "      <td>2015</td>\n",
       "      <td>White</td>\n",
       "    </tr>\n",
       "    <tr>\n",
       "      <th>13825</th>\n",
       "      <td>I Frati Lugana</td>\n",
       "      <td>Italy</td>\n",
       "      <td>Lugana</td>\n",
       "      <td>Cà dei Frati</td>\n",
       "      <td>4.2</td>\n",
       "      <td>3479</td>\n",
       "      <td>11.20</td>\n",
       "      <td>2019</td>\n",
       "      <td>White</td>\n",
       "    </tr>\n",
       "    <tr>\n",
       "      <th>13826</th>\n",
       "      <td>Villa Antinori Toscana Bianco</td>\n",
       "      <td>Italy</td>\n",
       "      <td>Toscana</td>\n",
       "      <td>Antinori</td>\n",
       "      <td>3.9</td>\n",
       "      <td>4064</td>\n",
       "      <td>8.68</td>\n",
       "      <td>2018</td>\n",
       "      <td>White</td>\n",
       "    </tr>\n",
       "  </tbody>\n",
       "</table>\n",
       "<p>7355 rows × 9 columns</p>\n",
       "</div>"
      ],
      "text/plain": [
       "                                        Wine Name Country        Region  \\\n",
       "0                                         Pomerol  France       Pomerol   \n",
       "1                                           Lirac  France         Lirac   \n",
       "2                   Erta e China Rosso di Toscana   Italy       Toscana   \n",
       "3                                       Bardolino   Italy     Bardolino   \n",
       "5                     Gigondas (Nobles Terrasses)  France      Gigondas   \n",
       "...                                           ...     ...           ...   \n",
       "13808  Drouhin - Vaudon Chablis Réserve De Vaudon  France       Chablis   \n",
       "13813                                Pouilly-Fumé  France  Pouilly-Fumé   \n",
       "13820                                     Chablis  France       Chablis   \n",
       "13825                              I Frati Lugana   Italy        Lugana   \n",
       "13826               Villa Antinori Toscana Bianco   Italy       Toscana   \n",
       "\n",
       "                      Winery  Rating  # Ratings  Price (€)  Year   Type  \n",
       "0      Château La Providence     4.2        100      95.00  2011    Red  \n",
       "1         Château Mont-Redon     4.3        100      15.50  2017    Red  \n",
       "2                 Renzo Masi     3.9        100       7.45  2015    Red  \n",
       "3                 Cavalchina     3.5        100       8.72  2019    Red  \n",
       "5              Vieux Clocher     3.7        100      19.90  2017    Red  \n",
       "...                      ...     ...        ...        ...   ...    ...  \n",
       "13808         Joseph Drouhin     4.0       1721      21.34  2018  White  \n",
       "13813          de Ladoucette     4.1       1903      68.00  2017  White  \n",
       "13820          William Fèvre     3.8       2487      22.39  2015  White  \n",
       "13825           Cà dei Frati     4.2       3479      11.20  2019  White  \n",
       "13826               Antinori     3.9       4064       8.68  2018  White  \n",
       "\n",
       "[7355 rows x 9 columns]"
      ]
     },
     "execution_count": 103,
     "metadata": {},
     "output_type": "execute_result"
    }
   ],
   "source": [
    "# Filtering DataSet => \"Country\" == \"France\" & \"Italy\"\n",
    "\n",
    "# DataSet copy\n",
    "df_wines_FrIt = df_wines.copy()\n",
    "\n",
    "# Filtering countries by \"France\" and \"Italy\" (.isin() method)\n",
    "df_wines_FrIt = df_wines_FrIt[df_wines_FrIt[\"Country\"].isin([\"Italy\", \"France\"])]\n",
    "df_wines_FrIt"
   ]
  },
  {
   "cell_type": "markdown",
   "id": "561a670e-37da-432a-99b3-60aa4c2ab998",
   "metadata": {},
   "source": [
    "***"
   ]
  },
  {
   "cell_type": "markdown",
   "id": "9fdd13f4-5be4-41a9-af24-94db7f847470",
   "metadata": {},
   "source": [
    "### ___French wines datas___"
   ]
  },
  {
   "cell_type": "code",
   "execution_count": null,
   "id": "0d80563b-ceb2-48c7-8812-78e233460092",
   "metadata": {},
   "outputs": [
    {
     "data": {
      "text/html": [
       "<div>\n",
       "<style scoped>\n",
       "    .dataframe tbody tr th:only-of-type {\n",
       "        vertical-align: middle;\n",
       "    }\n",
       "\n",
       "    .dataframe tbody tr th {\n",
       "        vertical-align: top;\n",
       "    }\n",
       "\n",
       "    .dataframe thead th {\n",
       "        text-align: right;\n",
       "    }\n",
       "</style>\n",
       "<table border=\"1\" class=\"dataframe\">\n",
       "  <thead>\n",
       "    <tr style=\"text-align: right;\">\n",
       "      <th></th>\n",
       "      <th>Rating</th>\n",
       "      <th># Ratings</th>\n",
       "      <th>Price (€)</th>\n",
       "    </tr>\n",
       "  </thead>\n",
       "  <tbody>\n",
       "    <tr>\n",
       "      <th>count</th>\n",
       "      <td>3436.00</td>\n",
       "      <td>3436.00</td>\n",
       "      <td>3436.00</td>\n",
       "    </tr>\n",
       "    <tr>\n",
       "      <th>mean</th>\n",
       "      <td>3.93</td>\n",
       "      <td>536.46</td>\n",
       "      <td>55.54</td>\n",
       "    </tr>\n",
       "    <tr>\n",
       "      <th>std</th>\n",
       "      <td>0.29</td>\n",
       "      <td>3093.78</td>\n",
       "      <td>112.80</td>\n",
       "    </tr>\n",
       "    <tr>\n",
       "      <th>min</th>\n",
       "      <td>2.50</td>\n",
       "      <td>25.00</td>\n",
       "      <td>3.70</td>\n",
       "    </tr>\n",
       "    <tr>\n",
       "      <th>25%</th>\n",
       "      <td>3.70</td>\n",
       "      <td>59.00</td>\n",
       "      <td>14.52</td>\n",
       "    </tr>\n",
       "    <tr>\n",
       "      <th>50%</th>\n",
       "      <td>3.90</td>\n",
       "      <td>141.00</td>\n",
       "      <td>28.80</td>\n",
       "    </tr>\n",
       "    <tr>\n",
       "      <th>75%</th>\n",
       "      <td>4.10</td>\n",
       "      <td>347.00</td>\n",
       "      <td>57.51</td>\n",
       "    </tr>\n",
       "    <tr>\n",
       "      <th>max</th>\n",
       "      <td>4.90</td>\n",
       "      <td>94287.00</td>\n",
       "      <td>3410.79</td>\n",
       "    </tr>\n",
       "  </tbody>\n",
       "</table>\n",
       "</div>"
      ],
      "text/plain": [
       "        Rating  # Ratings  Price (€)\n",
       "count  3436.00    3436.00    3436.00\n",
       "mean      3.93     536.46      55.54\n",
       "std       0.29    3093.78     112.80\n",
       "min       2.50      25.00       3.70\n",
       "25%       3.70      59.00      14.52\n",
       "50%       3.90     141.00      28.80\n",
       "75%       4.10     347.00      57.51\n",
       "max       4.90   94287.00    3410.79"
      ]
     },
     "execution_count": 104,
     "metadata": {},
     "output_type": "execute_result"
    }
   ],
   "source": [
    "# France stats\n",
    "fr_wines_filter = df_wines_FrIt[df_wines_FrIt[\"Country\"] == \"France\"]\n",
    "round(fr_wines_filter.describe(), 2)"
   ]
  },
  {
   "cell_type": "markdown",
   "id": "7187721a-ec54-4ca5-ac63-f1f51e6f0040",
   "metadata": {},
   "source": [
    "### Boxplots here"
   ]
  },
  {
   "cell_type": "markdown",
   "id": "e510f76c-6633-4162-b5eb-668559aba619",
   "metadata": {},
   "source": [
    "***"
   ]
  },
  {
   "cell_type": "markdown",
   "id": "2f6eb0b7-aa4a-498a-a85f-303459ccb4f1",
   "metadata": {},
   "source": [
    "### ___Italian wines datas___"
   ]
  },
  {
   "cell_type": "code",
   "execution_count": null,
   "id": "bb2222dd-003a-401e-a5c6-eb9eb2022f14",
   "metadata": {},
   "outputs": [
    {
     "data": {
      "text/html": [
       "<div>\n",
       "<style scoped>\n",
       "    .dataframe tbody tr th:only-of-type {\n",
       "        vertical-align: middle;\n",
       "    }\n",
       "\n",
       "    .dataframe tbody tr th {\n",
       "        vertical-align: top;\n",
       "    }\n",
       "\n",
       "    .dataframe thead th {\n",
       "        text-align: right;\n",
       "    }\n",
       "</style>\n",
       "<table border=\"1\" class=\"dataframe\">\n",
       "  <thead>\n",
       "    <tr style=\"text-align: right;\">\n",
       "      <th></th>\n",
       "      <th>Rating</th>\n",
       "      <th># Ratings</th>\n",
       "      <th>Price (€)</th>\n",
       "    </tr>\n",
       "  </thead>\n",
       "  <tbody>\n",
       "    <tr>\n",
       "      <th>count</th>\n",
       "      <td>3919.00</td>\n",
       "      <td>3919.00</td>\n",
       "      <td>3919.00</td>\n",
       "    </tr>\n",
       "    <tr>\n",
       "      <th>mean</th>\n",
       "      <td>3.88</td>\n",
       "      <td>396.34</td>\n",
       "      <td>29.26</td>\n",
       "    </tr>\n",
       "    <tr>\n",
       "      <th>std</th>\n",
       "      <td>0.29</td>\n",
       "      <td>984.88</td>\n",
       "      <td>59.04</td>\n",
       "    </tr>\n",
       "    <tr>\n",
       "      <th>min</th>\n",
       "      <td>2.60</td>\n",
       "      <td>25.00</td>\n",
       "      <td>3.15</td>\n",
       "    </tr>\n",
       "    <tr>\n",
       "      <th>25%</th>\n",
       "      <td>3.70</td>\n",
       "      <td>59.00</td>\n",
       "      <td>9.50</td>\n",
       "    </tr>\n",
       "    <tr>\n",
       "      <th>50%</th>\n",
       "      <td>3.90</td>\n",
       "      <td>134.00</td>\n",
       "      <td>14.52</td>\n",
       "    </tr>\n",
       "    <tr>\n",
       "      <th>75%</th>\n",
       "      <td>4.10</td>\n",
       "      <td>347.00</td>\n",
       "      <td>27.76</td>\n",
       "    </tr>\n",
       "    <tr>\n",
       "      <th>max</th>\n",
       "      <td>4.80</td>\n",
       "      <td>19454.00</td>\n",
       "      <td>1115.50</td>\n",
       "    </tr>\n",
       "  </tbody>\n",
       "</table>\n",
       "</div>"
      ],
      "text/plain": [
       "        Rating  # Ratings  Price (€)\n",
       "count  3919.00    3919.00    3919.00\n",
       "mean      3.88     396.34      29.26\n",
       "std       0.29     984.88      59.04\n",
       "min       2.60      25.00       3.15\n",
       "25%       3.70      59.00       9.50\n",
       "50%       3.90     134.00      14.52\n",
       "75%       4.10     347.00      27.76\n",
       "max       4.80   19454.00    1115.50"
      ]
     },
     "execution_count": 105,
     "metadata": {},
     "output_type": "execute_result"
    }
   ],
   "source": [
    "# Italy stats\n",
    "it_wines_filter = df_wines_FrIt[df_wines_FrIt[\"Country\"] == \"Italy\"]\n",
    "round(it_wines_filter.describe(), 2)"
   ]
  },
  {
   "cell_type": "markdown",
   "id": "51e74659-b34d-4e19-96fd-3df0b59ef7fa",
   "metadata": {},
   "source": [
    "### Boxplots here"
   ]
  },
  {
   "cell_type": "markdown",
   "id": "31b4fd6e-ea33-439a-941a-c405711ad28a",
   "metadata": {},
   "source": [
    "***"
   ]
  },
  {
   "cell_type": "markdown",
   "id": "1416af1a-2d74-4b19-b170-425c570f4141",
   "metadata": {},
   "source": [
    "## ___Italian wines analysis___"
   ]
  },
  {
   "cell_type": "code",
   "execution_count": null,
   "id": "611e1353-e7a4-4e4a-96cd-643982c1fc4a",
   "metadata": {},
   "outputs": [
    {
     "data": {
      "text/html": [
       "<div>\n",
       "<style scoped>\n",
       "    .dataframe tbody tr th:only-of-type {\n",
       "        vertical-align: middle;\n",
       "    }\n",
       "\n",
       "    .dataframe tbody tr th {\n",
       "        vertical-align: top;\n",
       "    }\n",
       "\n",
       "    .dataframe thead th {\n",
       "        text-align: right;\n",
       "    }\n",
       "</style>\n",
       "<table border=\"1\" class=\"dataframe\">\n",
       "  <thead>\n",
       "    <tr style=\"text-align: right;\">\n",
       "      <th></th>\n",
       "      <th>Wine Name</th>\n",
       "      <th>Country</th>\n",
       "      <th>Region</th>\n",
       "      <th>Winery</th>\n",
       "      <th>Rating</th>\n",
       "      <th># Ratings</th>\n",
       "      <th>Price (€)</th>\n",
       "      <th>Year</th>\n",
       "      <th>Type</th>\n",
       "    </tr>\n",
       "  </thead>\n",
       "  <tbody>\n",
       "    <tr>\n",
       "      <th>2</th>\n",
       "      <td>Erta e China Rosso di Toscana</td>\n",
       "      <td>Italy</td>\n",
       "      <td>Toscana</td>\n",
       "      <td>Renzo Masi</td>\n",
       "      <td>3.9</td>\n",
       "      <td>100</td>\n",
       "      <td>7.45</td>\n",
       "      <td>2015</td>\n",
       "      <td>Red</td>\n",
       "    </tr>\n",
       "    <tr>\n",
       "      <th>3</th>\n",
       "      <td>Bardolino</td>\n",
       "      <td>Italy</td>\n",
       "      <td>Bardolino</td>\n",
       "      <td>Cavalchina</td>\n",
       "      <td>3.5</td>\n",
       "      <td>100</td>\n",
       "      <td>8.72</td>\n",
       "      <td>2019</td>\n",
       "      <td>Red</td>\n",
       "    </tr>\n",
       "    <tr>\n",
       "      <th>8</th>\n",
       "      <td>Chianti</td>\n",
       "      <td>Italy</td>\n",
       "      <td>Chianti</td>\n",
       "      <td>Castello Montaùto</td>\n",
       "      <td>3.6</td>\n",
       "      <td>100</td>\n",
       "      <td>10.75</td>\n",
       "      <td>2015</td>\n",
       "      <td>Red</td>\n",
       "    </tr>\n",
       "    <tr>\n",
       "      <th>10</th>\n",
       "      <td>Chianti Riserva</td>\n",
       "      <td>Italy</td>\n",
       "      <td>Chianti</td>\n",
       "      <td>Poggiotondo</td>\n",
       "      <td>3.9</td>\n",
       "      <td>100</td>\n",
       "      <td>20.95</td>\n",
       "      <td>2013</td>\n",
       "      <td>Red</td>\n",
       "    </tr>\n",
       "    <tr>\n",
       "      <th>13</th>\n",
       "      <td>Zenas Primitivo</td>\n",
       "      <td>Italy</td>\n",
       "      <td>Puglia</td>\n",
       "      <td>La Bollina</td>\n",
       "      <td>3.6</td>\n",
       "      <td>100</td>\n",
       "      <td>9.26</td>\n",
       "      <td>2018</td>\n",
       "      <td>Red</td>\n",
       "    </tr>\n",
       "    <tr>\n",
       "      <th>...</th>\n",
       "      <td>...</td>\n",
       "      <td>...</td>\n",
       "      <td>...</td>\n",
       "      <td>...</td>\n",
       "      <td>...</td>\n",
       "      <td>...</td>\n",
       "      <td>...</td>\n",
       "      <td>...</td>\n",
       "      <td>...</td>\n",
       "    </tr>\n",
       "    <tr>\n",
       "      <th>13792</th>\n",
       "      <td>Pfefferer</td>\n",
       "      <td>Italy</td>\n",
       "      <td>Trentino-Alto Adige</td>\n",
       "      <td>Colterenzio (Schreckbichl)</td>\n",
       "      <td>4.2</td>\n",
       "      <td>1332</td>\n",
       "      <td>8.72</td>\n",
       "      <td>2019</td>\n",
       "      <td>White</td>\n",
       "    </tr>\n",
       "    <tr>\n",
       "      <th>13793</th>\n",
       "      <td>Costamolino Vermentino di Sardegna</td>\n",
       "      <td>Italy</td>\n",
       "      <td>Vermentino di Sardegna</td>\n",
       "      <td>Argiolas</td>\n",
       "      <td>3.8</td>\n",
       "      <td>1358</td>\n",
       "      <td>9.50</td>\n",
       "      <td>2018</td>\n",
       "      <td>White</td>\n",
       "    </tr>\n",
       "    <tr>\n",
       "      <th>13799</th>\n",
       "      <td>Arneis Langhe Blangé</td>\n",
       "      <td>Italy</td>\n",
       "      <td>Langhe</td>\n",
       "      <td>Ceretto</td>\n",
       "      <td>4.0</td>\n",
       "      <td>1476</td>\n",
       "      <td>16.47</td>\n",
       "      <td>2018</td>\n",
       "      <td>White</td>\n",
       "    </tr>\n",
       "    <tr>\n",
       "      <th>13825</th>\n",
       "      <td>I Frati Lugana</td>\n",
       "      <td>Italy</td>\n",
       "      <td>Lugana</td>\n",
       "      <td>Cà dei Frati</td>\n",
       "      <td>4.2</td>\n",
       "      <td>3479</td>\n",
       "      <td>11.20</td>\n",
       "      <td>2019</td>\n",
       "      <td>White</td>\n",
       "    </tr>\n",
       "    <tr>\n",
       "      <th>13826</th>\n",
       "      <td>Villa Antinori Toscana Bianco</td>\n",
       "      <td>Italy</td>\n",
       "      <td>Toscana</td>\n",
       "      <td>Antinori</td>\n",
       "      <td>3.9</td>\n",
       "      <td>4064</td>\n",
       "      <td>8.68</td>\n",
       "      <td>2018</td>\n",
       "      <td>White</td>\n",
       "    </tr>\n",
       "  </tbody>\n",
       "</table>\n",
       "<p>3919 rows × 9 columns</p>\n",
       "</div>"
      ],
      "text/plain": [
       "                                Wine Name Country                  Region  \\\n",
       "2           Erta e China Rosso di Toscana   Italy                 Toscana   \n",
       "3                               Bardolino   Italy               Bardolino   \n",
       "8                                 Chianti   Italy                 Chianti   \n",
       "10                        Chianti Riserva   Italy                 Chianti   \n",
       "13                        Zenas Primitivo   Italy                  Puglia   \n",
       "...                                   ...     ...                     ...   \n",
       "13792                           Pfefferer   Italy     Trentino-Alto Adige   \n",
       "13793  Costamolino Vermentino di Sardegna   Italy  Vermentino di Sardegna   \n",
       "13799                Arneis Langhe Blangé   Italy                  Langhe   \n",
       "13825                      I Frati Lugana   Italy                  Lugana   \n",
       "13826       Villa Antinori Toscana Bianco   Italy                 Toscana   \n",
       "\n",
       "                           Winery  Rating  # Ratings  Price (€)  Year   Type  \n",
       "2                      Renzo Masi     3.9        100       7.45  2015    Red  \n",
       "3                      Cavalchina     3.5        100       8.72  2019    Red  \n",
       "8               Castello Montaùto     3.6        100      10.75  2015    Red  \n",
       "10                    Poggiotondo     3.9        100      20.95  2013    Red  \n",
       "13                     La Bollina     3.6        100       9.26  2018    Red  \n",
       "...                           ...     ...        ...        ...   ...    ...  \n",
       "13792  Colterenzio (Schreckbichl)     4.2       1332       8.72  2019  White  \n",
       "13793                    Argiolas     3.8       1358       9.50  2018  White  \n",
       "13799                     Ceretto     4.0       1476      16.47  2018  White  \n",
       "13825                Cà dei Frati     4.2       3479      11.20  2019  White  \n",
       "13826                    Antinori     3.9       4064       8.68  2018  White  \n",
       "\n",
       "[3919 rows x 9 columns]"
      ]
     },
     "execution_count": 106,
     "metadata": {},
     "output_type": "execute_result"
    }
   ],
   "source": [
    "it_wines = it_wines_filter.copy()\n",
    "it_wines"
   ]
  },
  {
   "cell_type": "markdown",
   "id": "d11cd4da-2961-4f74-8adc-e6b8420282aa",
   "metadata": {},
   "source": [
    "***"
   ]
  },
  {
   "cell_type": "markdown",
   "id": "65c2cb4d-e1b2-41c4-bac5-25a470efdb23",
   "metadata": {},
   "source": [
    "### ___Finding total italian region of production___"
   ]
  },
  {
   "cell_type": "code",
   "execution_count": null,
   "id": "93ecdfa0-acd1-46a8-978e-de64dafd257a",
   "metadata": {},
   "outputs": [
    {
     "data": {
      "text/plain": [
       "array(['Toscana', 'Bardolino', 'Chianti', 'Puglia', 'Salento',\n",
       "       'Chianti Classico', 'Veneto', \"Barbera d'Asti\",\n",
       "       'Terre del Volturno', 'Lazio', \"Barbera d'Alba\", 'Barolo', 'Ruchè',\n",
       "       'Vigneti delle Dolomiti', 'Terre Siciliane', 'Bolgheri',\n",
       "       'Valpolicella Ripasso Classico', 'Rosso di Montalcino',\n",
       "       'Cannonau di Sardegna', 'Primitivo di Manduria', 'Trentino',\n",
       "       'Brunello di Montalcino', 'Barbaresco',\n",
       "       'Amarone della Valpolicella', 'Südtirol - Alto Adige', 'Roero',\n",
       "       'Valpolicella Ripasso', 'Piemonte', 'Sicilia',\n",
       "       'Valpolicella Classico', 'Bolgheri Superiore',\n",
       "       'Amarone della Valpolicella Classico', 'Irpinia',\n",
       "       'Castel San Lorenzo', \"Valle d'Aosta\",\n",
       "       'Vino Nobile di Montepulciano', \"Dolcetto d'Alba\",\n",
       "       'Salice Salentino', \"Montepulciano d'Abruzzo\", 'Valpolicella',\n",
       "       'Torgiano', 'Taurasi', 'Valpolicella Valpantena',\n",
       "       'Maremma Toscana', 'Rosso di Montepulciano', 'Rosso Piceno',\n",
       "       'Etna', 'Venezia Giulia', 'Isola dei Nuraghi', 'Langhe',\n",
       "       'Morellino di Scansano', 'Romagna', 'Valtellina',\n",
       "       'Amarone della Valpolicella Valpantena', 'Bardolino Classico',\n",
       "       'Montefalco', 'Coste della Sesia', \"Nebbiolo d'Alba\",\n",
       "       'Aglianico del Vulture', 'Campania', 'Carignano del Sulcis',\n",
       "       'Calabria', 'Irpinia Campi Taurasini', 'Copertino', 'Gattinara',\n",
       "       \"Lacrima di Morro d'Alba\", 'Collio', 'Valtellina Superiore',\n",
       "       'Carmignano', 'Rosso Veronese', 'Teroldego Rotaliano', 'Garda',\n",
       "       'Terre di Chieti', 'Marche', 'Lugana', 'Trentino-Alto Adige',\n",
       "       'Cortona', 'Sardegna', 'Verona', 'Sforzato della Valtellina',\n",
       "       'Colli Euganei', 'Ortona', 'Chianti Colli Senesi', \"Vino d'Italia\",\n",
       "       'Contea di Sclafani', 'Bolgheri Sassicaia', 'Val di Neto',\n",
       "       'delle Venezie', 'Friuli-Venezia Giulia', 'Tarantino', 'Umbria',\n",
       "       'Monferrato', 'Rubicone', 'Costa Toscana', 'Lago di Corbara',\n",
       "       'Cerasuolo di Vittoria', 'Brindisi', 'Terre degli Osci',\n",
       "       'Castel del Monte', 'Taburno', 'Curtefranca', 'Chianti Rùfina',\n",
       "       \"Montepulciano d'Abruzzo Colline Teramane\",\n",
       "       'Montefalco Sagrantino', 'Menfi', 'Cirò', 'Sangiovese di Romagna',\n",
       "       'Barbera del Monferrato', 'Lombardia', 'Provincia di Pavia',\n",
       "       'Piave', 'Valtenesi', 'Montecucco', 'Venezia', 'Orvietano Rosso',\n",
       "       'Friuli Grave', 'Colli Orientali del Friuli', 'Gioia del Colle',\n",
       "       'Molise', 'Torgiano Rosso Riserva', 'Paestum', 'Alghero', 'Sebino',\n",
       "       'Abruzzo', 'Reggiano', 'Emilia-Romagna', 'Parrina',\n",
       "       'Colli Pesaresi', 'Roccamonfina', \"Dolcetto d'Acqui\",\n",
       "       'Terrazze Retiche di Sondrio', 'Colli del Limbara',\n",
       "       'Contessa Entellina', 'Daunia', 'Colli di Luni', 'San Gimignano',\n",
       "       'Offida', 'Valdadige Terradeiforti',\n",
       "       'Barbera del Monferrato Superiore', 'Friuli Aquileia',\n",
       "       'Monica di Sardegna', 'Nardò', 'San Severo',\n",
       "       'Barco Reale di Carmignano', \"Sant'Antimo\", 'Biferno', 'Nizza',\n",
       "       'Colli della Toscana Centrale', 'Bardolino Superiore', 'Pomino',\n",
       "       \"Brachetto d'Acqui\", 'Benaco Bresciano', 'Liguria', 'Basilicata',\n",
       "       \"Cerasuolo d'Abruzzo\", 'Bardolino Chiaretto', 'Emilia',\n",
       "       'Conegliano-Valdobbiadene Prosecco Superiore', 'Asti',\n",
       "       \"Moscato d'Asti\", 'Prosecco', 'Lambrusco di Sorbara',\n",
       "       'Franciacorta', 'Trento', 'Asolo Prosecco',\n",
       "       'Conegliano-Valdobbiadene Prosecco', 'Modena',\n",
       "       'Prosecco di Treviso', 'Marca Trevigiana', 'Colli Trevigiani',\n",
       "       'Lambrusco Grasparossa di Castelvetro',\n",
       "       'Lambrusco Salamino di Santa Croce', 'Colli de Scandiano e Canosa',\n",
       "       'Alta Langa', 'Soave', 'Gavi', 'Oltrepò Pavese', 'Soave Classico',\n",
       "       'Vernaccia di San Gimignano', 'Mitterberg', \"Trebbiano d'Abruzzo\",\n",
       "       'Vermentino di Gallura', 'Verdicchio dei Castelli di Jesi',\n",
       "       'Verdicchio di Matelica', 'Colli Martani', 'Colli Tortonesi',\n",
       "       'Friuli Isonzo', 'Alcamo', 'Fiano de Avellino', 'Greco di Tufo',\n",
       "       'Bianco di Custoza', 'Est! Est!! Est!!! di Montefiascone',\n",
       "       'Vermentino di Sardegna', 'Orvieto', 'Spoleto', 'Valle del Tirso',\n",
       "       'Nuragus di Cagliari', 'Bianchello del Metauro', 'Falerio',\n",
       "       'Sciacca', 'Sannio', 'Valli di Porto Pino', 'Falerio Pecorino',\n",
       "       'Colline Teatine', 'Colline Pescaresi', 'Falanghina del Sannio',\n",
       "       'Rosazzo', 'Verdicchio dei Castelli di Jesi Riserva',\n",
       "       'Falanghina del Beneventano', 'Orvieto Classico', 'Frascati',\n",
       "       'Valdadige'], dtype=object)"
      ]
     },
     "execution_count": 107,
     "metadata": {},
     "output_type": "execute_result"
    }
   ],
   "source": [
    "it_wines[\"Region\"].unique()"
   ]
  },
  {
   "cell_type": "code",
   "execution_count": null,
   "id": "8496bc7a-e941-4f48-accd-e6c2af078fb1",
   "metadata": {},
   "outputs": [
    {
     "name": "stdout",
     "output_type": "stream",
     "text": [
      "There are 212 italian regions for wines.\n"
     ]
    }
   ],
   "source": [
    "# Italian regions of provenience count\n",
    "n_regions = it_wines_filter[\"Region\"].nunique()\n",
    "print(f'There are {n_regions} italian regions for wines.')"
   ]
  },
  {
   "cell_type": "code",
   "execution_count": null,
   "id": "34555200-c65b-4836-be75-634407cf5fce",
   "metadata": {},
   "outputs": [
    {
     "data": {
      "text/html": [
       "<div>\n",
       "<style scoped>\n",
       "    .dataframe tbody tr th:only-of-type {\n",
       "        vertical-align: middle;\n",
       "    }\n",
       "\n",
       "    .dataframe tbody tr th {\n",
       "        vertical-align: top;\n",
       "    }\n",
       "\n",
       "    .dataframe thead th {\n",
       "        text-align: right;\n",
       "    }\n",
       "</style>\n",
       "<table border=\"1\" class=\"dataframe\">\n",
       "  <thead>\n",
       "    <tr style=\"text-align: right;\">\n",
       "      <th></th>\n",
       "      <th>Wine Name</th>\n",
       "      <th>Country</th>\n",
       "      <th>Region</th>\n",
       "      <th>Area</th>\n",
       "      <th>Winery</th>\n",
       "      <th>Rating</th>\n",
       "      <th># Ratings</th>\n",
       "      <th>Price (€)</th>\n",
       "      <th>Year</th>\n",
       "      <th>Type</th>\n",
       "    </tr>\n",
       "  </thead>\n",
       "  <tbody>\n",
       "    <tr>\n",
       "      <th>2</th>\n",
       "      <td>Erta e China Rosso di Toscana</td>\n",
       "      <td>Italy</td>\n",
       "      <td>Toscana</td>\n",
       "      <td>Toscana</td>\n",
       "      <td>Renzo Masi</td>\n",
       "      <td>3.9</td>\n",
       "      <td>100</td>\n",
       "      <td>7.45</td>\n",
       "      <td>2015</td>\n",
       "      <td>Red</td>\n",
       "    </tr>\n",
       "    <tr>\n",
       "      <th>3</th>\n",
       "      <td>Bardolino</td>\n",
       "      <td>Italy</td>\n",
       "      <td>Bardolino</td>\n",
       "      <td>Bardolino</td>\n",
       "      <td>Cavalchina</td>\n",
       "      <td>3.5</td>\n",
       "      <td>100</td>\n",
       "      <td>8.72</td>\n",
       "      <td>2019</td>\n",
       "      <td>Red</td>\n",
       "    </tr>\n",
       "    <tr>\n",
       "      <th>8</th>\n",
       "      <td>Chianti</td>\n",
       "      <td>Italy</td>\n",
       "      <td>Chianti</td>\n",
       "      <td>Chianti</td>\n",
       "      <td>Castello Montaùto</td>\n",
       "      <td>3.6</td>\n",
       "      <td>100</td>\n",
       "      <td>10.75</td>\n",
       "      <td>2015</td>\n",
       "      <td>Red</td>\n",
       "    </tr>\n",
       "    <tr>\n",
       "      <th>10</th>\n",
       "      <td>Chianti Riserva</td>\n",
       "      <td>Italy</td>\n",
       "      <td>Chianti</td>\n",
       "      <td>Chianti</td>\n",
       "      <td>Poggiotondo</td>\n",
       "      <td>3.9</td>\n",
       "      <td>100</td>\n",
       "      <td>20.95</td>\n",
       "      <td>2013</td>\n",
       "      <td>Red</td>\n",
       "    </tr>\n",
       "    <tr>\n",
       "      <th>13</th>\n",
       "      <td>Zenas Primitivo</td>\n",
       "      <td>Italy</td>\n",
       "      <td>Puglia</td>\n",
       "      <td>Puglia</td>\n",
       "      <td>La Bollina</td>\n",
       "      <td>3.6</td>\n",
       "      <td>100</td>\n",
       "      <td>9.26</td>\n",
       "      <td>2018</td>\n",
       "      <td>Red</td>\n",
       "    </tr>\n",
       "    <tr>\n",
       "      <th>...</th>\n",
       "      <td>...</td>\n",
       "      <td>...</td>\n",
       "      <td>...</td>\n",
       "      <td>...</td>\n",
       "      <td>...</td>\n",
       "      <td>...</td>\n",
       "      <td>...</td>\n",
       "      <td>...</td>\n",
       "      <td>...</td>\n",
       "      <td>...</td>\n",
       "    </tr>\n",
       "    <tr>\n",
       "      <th>13792</th>\n",
       "      <td>Pfefferer</td>\n",
       "      <td>Italy</td>\n",
       "      <td>Trentino-Alto Adige</td>\n",
       "      <td>Trentino-Alto Adige</td>\n",
       "      <td>Colterenzio (Schreckbichl)</td>\n",
       "      <td>4.2</td>\n",
       "      <td>1332</td>\n",
       "      <td>8.72</td>\n",
       "      <td>2019</td>\n",
       "      <td>White</td>\n",
       "    </tr>\n",
       "    <tr>\n",
       "      <th>13793</th>\n",
       "      <td>Costamolino Vermentino di Sardegna</td>\n",
       "      <td>Italy</td>\n",
       "      <td>Vermentino di Sardegna</td>\n",
       "      <td>Vermentino di Sardegna</td>\n",
       "      <td>Argiolas</td>\n",
       "      <td>3.8</td>\n",
       "      <td>1358</td>\n",
       "      <td>9.50</td>\n",
       "      <td>2018</td>\n",
       "      <td>White</td>\n",
       "    </tr>\n",
       "    <tr>\n",
       "      <th>13799</th>\n",
       "      <td>Arneis Langhe Blangé</td>\n",
       "      <td>Italy</td>\n",
       "      <td>Langhe</td>\n",
       "      <td>Langhe</td>\n",
       "      <td>Ceretto</td>\n",
       "      <td>4.0</td>\n",
       "      <td>1476</td>\n",
       "      <td>16.47</td>\n",
       "      <td>2018</td>\n",
       "      <td>White</td>\n",
       "    </tr>\n",
       "    <tr>\n",
       "      <th>13825</th>\n",
       "      <td>I Frati Lugana</td>\n",
       "      <td>Italy</td>\n",
       "      <td>Lugana</td>\n",
       "      <td>Lugana</td>\n",
       "      <td>Cà dei Frati</td>\n",
       "      <td>4.2</td>\n",
       "      <td>3479</td>\n",
       "      <td>11.20</td>\n",
       "      <td>2019</td>\n",
       "      <td>White</td>\n",
       "    </tr>\n",
       "    <tr>\n",
       "      <th>13826</th>\n",
       "      <td>Villa Antinori Toscana Bianco</td>\n",
       "      <td>Italy</td>\n",
       "      <td>Toscana</td>\n",
       "      <td>Toscana</td>\n",
       "      <td>Antinori</td>\n",
       "      <td>3.9</td>\n",
       "      <td>4064</td>\n",
       "      <td>8.68</td>\n",
       "      <td>2018</td>\n",
       "      <td>White</td>\n",
       "    </tr>\n",
       "  </tbody>\n",
       "</table>\n",
       "<p>3919 rows × 10 columns</p>\n",
       "</div>"
      ],
      "text/plain": [
       "                                Wine Name Country                  Region  \\\n",
       "2           Erta e China Rosso di Toscana   Italy                 Toscana   \n",
       "3                               Bardolino   Italy               Bardolino   \n",
       "8                                 Chianti   Italy                 Chianti   \n",
       "10                        Chianti Riserva   Italy                 Chianti   \n",
       "13                        Zenas Primitivo   Italy                  Puglia   \n",
       "...                                   ...     ...                     ...   \n",
       "13792                           Pfefferer   Italy     Trentino-Alto Adige   \n",
       "13793  Costamolino Vermentino di Sardegna   Italy  Vermentino di Sardegna   \n",
       "13799                Arneis Langhe Blangé   Italy                  Langhe   \n",
       "13825                      I Frati Lugana   Italy                  Lugana   \n",
       "13826       Villa Antinori Toscana Bianco   Italy                 Toscana   \n",
       "\n",
       "                         Area                      Winery  Rating  # Ratings  \\\n",
       "2                     Toscana                  Renzo Masi     3.9        100   \n",
       "3                   Bardolino                  Cavalchina     3.5        100   \n",
       "8                     Chianti           Castello Montaùto     3.6        100   \n",
       "10                    Chianti                 Poggiotondo     3.9        100   \n",
       "13                     Puglia                  La Bollina     3.6        100   \n",
       "...                       ...                         ...     ...        ...   \n",
       "13792     Trentino-Alto Adige  Colterenzio (Schreckbichl)     4.2       1332   \n",
       "13793  Vermentino di Sardegna                    Argiolas     3.8       1358   \n",
       "13799                  Langhe                     Ceretto     4.0       1476   \n",
       "13825                  Lugana                Cà dei Frati     4.2       3479   \n",
       "13826                 Toscana                    Antinori     3.9       4064   \n",
       "\n",
       "       Price (€)  Year   Type  \n",
       "2           7.45  2015    Red  \n",
       "3           8.72  2019    Red  \n",
       "8          10.75  2015    Red  \n",
       "10         20.95  2013    Red  \n",
       "13          9.26  2018    Red  \n",
       "...          ...   ...    ...  \n",
       "13792       8.72  2019  White  \n",
       "13793       9.50  2018  White  \n",
       "13799      16.47  2018  White  \n",
       "13825      11.20  2019  White  \n",
       "13826       8.68  2018  White  \n",
       "\n",
       "[3919 rows x 10 columns]"
      ]
     },
     "execution_count": 109,
     "metadata": {},
     "output_type": "execute_result"
    }
   ],
   "source": [
    "# Create new column / reordering columns\n",
    "\n",
    "it_wines[\"Area\"] = it_wines[\"Region\"]\n",
    "it_wines = it_wines[[\"Wine Name\", \"Country\", \"Region\", \"Area\", \"Winery\", \"Rating\", \"# Ratings\", \"Price (€)\", \"Year\", \"Type\"]]\n",
    "it_wines"
   ]
  },
  {
   "cell_type": "code",
   "execution_count": null,
   "id": "a036af45-6176-4542-82c5-e722747f4dfa",
   "metadata": {},
   "outputs": [],
   "source": []
  },
  {
   "cell_type": "code",
   "execution_count": null,
   "id": "711bc5b4-d884-4357-a500-3a8640f43432",
   "metadata": {},
   "outputs": [
    {
     "name": "stdout",
     "output_type": "stream",
     "text": [
      "                                              Wine Name Country  Region    Area                     Winery  Rating  # Ratings  Price (€)  Year       Type\n",
      "13                                      Zenas Primitivo   Italy  Puglia  Puglia                 La Bollina     3.6        100       9.26  2018        Red\n",
      "22                                  Old Vines Primitivo   Italy  Puglia  Puglia   Azienda Agricola Morella     4.2        100      38.70  2015        Red\n",
      "50             12 e Mezzo Puglia Primitivo Organic Wine   Italy  Puglia  Puglia                Varvaglione     3.9        101       9.40  2016        Red\n",
      "283                          Nèprica Cabernet Sauvignon   Italy  Puglia  Puglia                 Tormaresca     3.5        108       8.33  2018        Red\n",
      "391                                          Negroamaro   Italy  Puglia  Puglia                     A Mano     3.5        111       6.75  2017        Red\n",
      "844                                           Primitivo   Italy  Puglia  Puglia         Terre di Montelusa     3.8        128       4.90  2018        Red\n",
      "1159                   Appassite Negroamaro - Primitivo   Italy  Puglia  Puglia               Luna Argenta     4.2       1413       9.66  2018        Red\n",
      "1183                           Primitivo - Merlot Zolla   Italy  Puglia  Puglia        Vigneti del Salento     3.9        142       7.26  2018        Red\n",
      "1245                                          Primitivo   Italy  Puglia  Puglia                     A Mano     3.6        145       6.99  2018        Red\n",
      "1318                                 Old Vine Zinfandel   Italy  Puglia  Puglia                   Red Fire     3.5        148       7.75  2018        Red\n",
      "1556                                       Susumaniello   Italy  Puglia  Puglia            Masca del Tacco     4.2       1597      12.95  2018        Red\n",
      "1733                                  Nèprica Primitivo   Italy  Puglia  Puglia                 Tormaresca     3.8       1683       7.95  2017        Red\n",
      "1772                                       Rosso Puglia   Italy  Puglia  Puglia                 Luccarelli     3.8       1700       4.66  2018        Red\n",
      "1859                Puglia Rosso (Accademia dei Racemi)   Italy  Puglia  Puglia                    Anarkos     3.8        175       6.50  2017        Red\n",
      "1896                                       Alluva Rosso   Italy  Puglia  Puglia          Masseria Pietrosa     3.9        177      23.88  2016        Red\n",
      "1969                                  Negroamaro Puglia   Italy  Puglia  Puglia                    Epicuro     3.9        181       5.90  2017        Red\n",
      "2213                                 Appassimento Rosso   Italy  Puglia  Puglia               Passo Grande     4.0        195       7.28  2017        Red\n",
      "2247                                         Negroamaro   Italy  Puglia  Puglia                     Domodo     3.6        197       4.95  2018        Red\n",
      "2252                                  Baccaro Primitivo   Italy  Puglia  Puglia                    Farnese     3.7        198       5.80  2018        Red\n",
      "2291                              I Tratturi Negroamaro   Italy  Puglia  Puglia                San Marzano     3.7        200       5.95  2018        Red\n",
      "2302                    Gran Maestro Appassimento Rosso   Italy  Puglia  Puglia           Maestro Italiano     3.6        201       6.81  2017        Red\n",
      "2338                                          Primitivo   Italy  Puglia  Puglia                    Epicuro     3.8        203       7.49  2018        Red\n",
      "2420                            La Marchesana Primitivo   Italy  Puglia  Puglia                  Polvanera     4.0        210       7.90  2018        Red\n",
      "2464                Passo del Sud Appassimento Edizione   Italy  Puglia  Puglia                     Tagaro     3.9        213      12.03  2016        Red\n",
      "2683                                          Primitivo   Italy  Puglia  Puglia                  Polvanera     4.0        231       8.90  2018        Red\n",
      "2901                               Pescorosso Aglianico   Italy  Puglia  Puglia                  Coppadoro     3.9         25       9.65  2014        Red\n",
      "2911                                    Petravia Puglia   Italy  Puglia  Puglia          Masseria Altemura     3.4         25      10.90  2017        Red\n",
      "2958                                   È Arte Primitivo   Italy  Puglia  Puglia                 Torrevento     4.0         25       5.90  2018        Red\n",
      "3205                                      Nero di Troia   Italy  Puglia  Puglia                Terre Avare     3.6         27       7.21  2017        Red\n",
      "3336                                          Primitivo   Italy  Puglia  Puglia                 Luccarelli     3.9       2745       6.50  2018        Red\n",
      "3433                                Lunatico Negroamaro   Italy  Puglia  Puglia        Vigneti del Salento     3.9         28       5.75  2018        Red\n",
      "3504                                       Appassimento   Italy  Puglia  Puglia            Today's Special     3.7        284       6.81  2017        Red\n",
      "3615                             Primanero Appassimento   Italy  Puglia  Puglia                   Paololeo     4.1         29       8.95  2018        Red\n",
      "3840                                          Aglianico   Italy  Puglia  Puglia                    Epicuro     3.7        305       6.50  2018        Red\n",
      "3967                                 Nèprica Negroamaro   Italy  Puglia  Puglia                 Tormaresca     3.5        313       8.33  2018        Red\n",
      "4008                                   Primitivo Puglia   Italy  Puglia  Puglia                  Montecore     3.4         32       5.50  2018        Red\n",
      "4364                          90 Novantaceppi Primitivo   Italy  Puglia  Puglia            Latentia Winery     3.9        343       4.55  2019        Red\n",
      "4387                           Fantini Primitivo Puglia   Italy  Puglia  Puglia                    Farnese     3.5        345       5.90  2018        Red\n",
      "4399                                       Appassimento   Italy  Puglia  Puglia                    Epicuro     4.1        347       9.90  2017        Red\n",
      "4405                                             Ostuni   Italy  Puglia  Puglia                 Montedidio     4.0        347       5.80  2019        Red\n",
      "4422                                         Gran Tiati   Italy  Puglia  Puglia                     Teanum     4.0         35      34.90  2011        Red\n",
      "4508                                 Lunatico Primitivo   Italy  Puglia  Puglia        Vigneti del Salento     3.8        357       5.75  2018        Red\n",
      "4557                               Puglia Tre Autoctoni   Italy  Puglia  Puglia        Vigneti del Salento     3.6         36       6.23  2016        Red\n",
      "4569           Val Passo Cabernet Sauvignon - Primitivo   Italy  Puglia  Puglia            Latentia Winery     3.3         36       6.44  2017        Red\n",
      "4634                         Primitivo Puglia Primasole   Italy  Puglia  Puglia              Cielo e Terra     3.8        368       4.47  2018        Red\n",
      "4852                         Primitivo Puglia Infinitum   Italy  Puglia  Puglia                 Torrevento     3.7        385       5.95  2018        Red\n",
      "5059                                       Susumaniello   Italy  Puglia  Puglia                    Epicuro     4.0        403      14.94  2017        Red\n",
      "5293                                 Conte Giangirolamo   Italy  Puglia  Puglia                   Girolamo     4.3         43      31.59  2016        Red\n",
      "5701                                  Puglia Negroamaro   Italy  Puglia  Puglia                  Montecore     3.7         47       5.50  2017        Red\n",
      "5955                                       Susumaniello   Italy  Puglia  Puglia                    Epicuro     4.0         50      12.50  2018        Red\n",
      "6000                              1954 Primitivo Puglia   Italy  Puglia  Puglia           Cantine Paradiso     4.2        504      16.08  2016        Red\n",
      "6077                              Organic Nero di Troia   Italy  Puglia  Puglia               Maree d'Ione     4.0        510       6.95  2017        Red\n",
      "6197        Imprint of Mark Shannon Primitivo Appassito   Italy  Puglia  Puglia                     A Mano     3.6         53      10.90  2017        Red\n",
      "6198                      Passo Lungo Primitivo Tardivo   Italy  Puglia  Puglia                 San Donaci     3.9         53       7.90  2018        Red\n",
      "6299                                Paiara Puglia Rosso   Italy  Puglia  Puglia                 Tormaresca     3.8        543       6.54  2016        Red\n",
      "6315                                          Primitivo   Italy  Puglia  Puglia                     A Mano     3.4        549       7.89  2017        Red\n",
      "6351                                   Puglia Primitivo   Italy  Puglia  Puglia                   Lamadoro     3.4         55       5.25  2017        Red\n",
      "6368                                         San Domino   Italy  Puglia  Puglia                 Montedidio     3.9        551       6.77  2018        Red\n",
      "6508                                          Appassite   Italy  Puglia  Puglia                Nero Grande     4.1        573       9.90  2018        Red\n",
      "6551                               I Tratturi Primitivo   Italy  Puglia  Puglia                San Marzano     3.8         58       4.65  2019        Red\n",
      "6555                            Pignataro Nero di Troia   Italy  Puglia  Puglia                     Tagaro     4.0         58       7.90  2018        Red\n",
      "6671                 90 Novantaceppi Appassimento Rosso   Italy  Puglia  Puglia            Latentia Winery     3.8        595       5.21  2016        Red\n",
      "6861                                Canio Nero di Troia   Italy  Puglia  Puglia        Vigneti del Salento     3.9         62      18.03  2015        Red\n",
      "6899                             Negroamaro - Primitivo   Italy  Puglia  Puglia               Borgo Mastro     3.6         63       5.75  2016        Red\n",
      "7196                                       Appassimento   Italy  Puglia  Puglia          Conte di Campiano     4.0       6780       6.57  2015        Red\n",
      "7213                         Nèprica Cabernet Sauvignon   Italy  Puglia  Puglia                 Tormaresca     3.6         68       8.40  2017        Red\n",
      "7243                                       Armano Rosso   Italy  Puglia  Puglia                Ponte Lungo     3.9         68       8.72  2018        Red\n",
      "7247                                  Negroamaro I Muri   Italy  Puglia  Puglia        Vigneti del Salento     3.9        681       4.95  2018        Red\n",
      "7325                       Vigne del Maestro Sangiovese   Italy  Puglia  Puglia           Maestro Italiano     3.7         70       4.83  2017        Red\n",
      "7468                                    Petravia Puglia   Italy  Puglia  Puglia          Masseria Altemura     3.8        720      10.90  2016        Red\n",
      "7470                                          Zinfandel   Italy  Puglia  Puglia                    Epicuro     3.7        720      10.68  2018        Red\n",
      "7584                                    Lu'Li Appassite   Italy  Puglia  Puglia            Masca del Tacco     4.1        742       9.50  2018        Red\n",
      "7678                               Moi Primitivo Puglia   Italy  Puglia  Puglia                Varvaglione     3.5         76       5.90  2018        Red\n",
      "7820   Il Numero Uno Zinfandel (Collezione di Famiglia)   Italy  Puglia  Puglia                        Z1N     4.0         79      12.90  2018        Red\n",
      "7825                                Paiara Puglia Rosso   Italy  Puglia  Puglia                 Tormaresca     3.6         79       4.80  2017        Red\n",
      "7907               Passo del Sud Negroamaro - Primitivo   Italy  Puglia  Puglia                     Tagaro     3.9         81       8.78  2017        Red\n",
      "7980                               Moi Primitivo Puglia   Italy  Puglia  Puglia                Varvaglione     3.7        828       5.90  2017        Red\n",
      "8026                   Appassite Negroamaro - Primitivo   Italy  Puglia  Puglia               Luna Argenta     4.0         84       7.52  2019        Red\n",
      "8082                                   Puglia Primitivo   Italy  Puglia  Puglia                   Lamadoro     3.4         85       5.28  2018        Red\n",
      "8108                                   Primitivo I Muri   Italy  Puglia  Puglia        Vigneti del Salento     3.8        853       4.61  2018        Red\n",
      "8270                      Lucale Appassimento Primitivo   Italy  Puglia  Puglia  Masseria Borgo dei Trulli     3.8         89       8.90  2017        Red\n",
      "8518                                Lamarossa Primitivo   Italy  Puglia  Puglia                  Amastuola     4.0         95      13.95  2015        Red\n",
      "8703                                             Rosato   Italy  Puglia  Puglia                    Epicuro     3.6         28       5.50  2019       Rose\n",
      "8951                      12 e Mezzo del Salento Rosato   Italy  Puglia  Puglia                Varvaglione     3.8        148       7.40  2018       Rose\n",
      "8988                                     Zinfandel Rosé   Italy  Puglia  Puglia                    Epicuro     3.5        229      10.68  2018       Rose\n",
      "8990                          Tramari Rosé di Primitivo   Italy  Puglia  Puglia                San Marzano     3.9        238       6.92  2019       Rose\n",
      "9004                                   Primitivo Rosato   Italy  Puglia  Puglia               Doppio Passo     3.9        284       6.20  2019       Rose\n",
      "9416                                          Brut Rosé   Italy  Puglia  Puglia     Cantina Rosa del Golfo     3.8        147      23.54  N.V.  Sparkling\n",
      "10583                                      Talò Verdeca   Italy  Puglia  Puglia                San Marzano     3.6         34       8.90  2019      White\n",
      "10905                                            Pass-O   Italy  Puglia  Puglia                     Menhir     3.9         40      10.95  2018      White\n",
      "11166                                   Talò Chardonnay   Italy  Puglia  Puglia                San Marzano     3.8         47       6.85  2018      White\n",
      "11237                                 Chardonnay Puglia   Italy  Puglia  Puglia                 Tormaresca     3.6         49       7.39  2019      White\n",
      "11465                    Masseria Surani Arthemis Fiano   Italy  Puglia  Puglia                    Tommasi     4.0         57       8.90  2017      White\n",
      "11541                          Trebbiano - Pinot Grigio   Italy  Puglia  Puglia              Cielo e Terra     4.0         59       4.25  2019      White\n",
      "11816                                           Verdeca   Italy  Puglia  Puglia         Terrecarsiche 1939     3.5         71       7.42  2017      White\n",
      "11831                         Chardonnay - Fiano Puglia   Italy  Puglia  Puglia                  Montecore     3.9         71       5.50  2018      White\n",
      "12647                                             Fiano   Italy  Puglia  Puglia                    Epicuro     3.5        138      10.99  2018      White\n",
      "12788                                Chardonnay - Fiano   Italy  Puglia  Puglia                    Epicuro     3.4        159       6.89  2018      White\n",
      "12903                              Puglia I Muri Bianco   Italy  Puglia  Puglia        Vigneti del Salento     3.8        176       6.95  2018      White\n",
      "13170                  Gran Maestro Appassimento Bianco   Italy  Puglia  Puglia           Maestro Italiano     3.7        241       6.90  2018      White\n",
      "13205                              L'Uetta Fiano Puglia   Italy  Puglia  Puglia            Masca del Tacco     4.1        249      10.49  2018      White\n",
      "13384                              Puglia I Muri Bianco   Italy  Puglia  Puglia        Vigneti del Salento     3.7        326       6.54  2017      White\n",
      "13436                          Trebbiano - Pinot Grigio   Italy  Puglia  Puglia              Cielo e Terra     3.9        363       5.82  2018      White\n",
      "13751                                 Chardonnay Puglia   Italy  Puglia  Puglia                 Tormaresca     3.6        906       9.56  2018      White\n"
     ]
    }
   ],
   "source": [
    "print(it_wines[it_wines[\"Region\"] == \"Puglia\"].to_string())"
   ]
  },
  {
   "cell_type": "code",
   "execution_count": null,
   "id": "4137ff95-61fc-4b9c-a7d9-af6e4ad8b473",
   "metadata": {},
   "outputs": [],
   "source": []
  },
  {
   "cell_type": "code",
   "execution_count": null,
   "id": "66ccfb8c-0e7a-4436-81c1-155c3e87fae2",
   "metadata": {},
   "outputs": [],
   "source": []
  },
  {
   "cell_type": "code",
   "execution_count": null,
   "id": "a6cac384-5630-426a-a155-9338485bf12c",
   "metadata": {},
   "outputs": [],
   "source": []
  },
  {
   "cell_type": "code",
   "execution_count": null,
   "id": "04d3695c-9c36-49da-a5d8-1e28a0177ecd",
   "metadata": {},
   "outputs": [],
   "source": []
  },
  {
   "cell_type": "code",
   "execution_count": null,
   "id": "8d2814b5-124b-4945-a629-7dd864868934",
   "metadata": {},
   "outputs": [],
   "source": []
  },
  {
   "cell_type": "code",
   "execution_count": null,
   "id": "06a9f5c1-f093-45fc-aefd-ac8773009402",
   "metadata": {},
   "outputs": [],
   "source": []
  },
  {
   "cell_type": "code",
   "execution_count": null,
   "id": "83c55e24-10a8-4d69-95a5-c8b75c5d6d89",
   "metadata": {},
   "outputs": [],
   "source": []
  }
 ],
 "metadata": {
  "kernelspec": {
   "display_name": "Python 3 (ipykernel)",
   "language": "python",
   "name": "python3"
  },
  "language_info": {
   "codemirror_mode": {
    "name": "ipython",
    "version": 3
   },
   "file_extension": ".py",
   "mimetype": "text/x-python",
   "name": "python",
   "nbconvert_exporter": "python",
   "pygments_lexer": "ipython3",
   "version": "3.12.3"
  }
 },
 "nbformat": 4,
 "nbformat_minor": 5
}
